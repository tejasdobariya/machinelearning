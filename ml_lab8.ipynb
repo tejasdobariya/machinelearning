{
  "nbformat": 4,
  "nbformat_minor": 0,
  "metadata": {
    "colab": {
      "provenance": []
    },
    "kernelspec": {
      "name": "python3",
      "display_name": "Python 3"
    },
    "language_info": {
      "name": "python"
    }
  },
  "cells": [
    {
      "cell_type": "code",
      "execution_count": 3,
      "metadata": {
        "id": "TLJpGMuOt8Qw"
      },
      "outputs": [],
      "source": [
        "import pandas as pd\n",
        "import numpy as np\n",
        "from sklearn.metrics import accuracy_score\n",
        "import sklearn\n",
        "from sklearn.datasets import load_breast_cancer\n",
        "import io\n",
        "from sklearn import preprocessing\n",
        "from sklearn.model_selection import train_test_split"
      ]
    },
    {
      "cell_type": "code",
      "source": [
        "data = load_breast_cancer()\n",
        "data.target_names, data.feature_names\n",
        "X = preprocessing.MinMaxScaler().fit_transform(data.data)\n",
        "y = data.target\n",
        "X_train, X_test, y_train, y_test = train_test_split(X,y,train_size = 0.85)\n",
        "\n",
        "X_train_1, X_test_1, y_train_1, y_test_1 = train_test_split(X_train, y_train, train_size=0.75)\n",
        "X_train_2, X_test_2, y_train_2, y_test_2 = train_test_split(X_train, y_train, train_size=0.75)\n",
        "X_train_3, X_test_3, y_train_3, y_test_3 = train_test_split(X_train, y_train, train_size=0.75)"
      ],
      "metadata": {
        "id": "-zVFAw6W3lkU"
      },
      "execution_count": 6,
      "outputs": []
    },
    {
      "cell_type": "code",
      "source": [
        "from sklearn import tree\n",
        "from sklearn import metrics\n",
        "model_1 = tree.DecisionTreeClassifier(max_depth=1)\n",
        "model_1 = model_1.fit(X_train_1, y_train_1)\n",
        "y_pred_1 = model_1.predict(X_test_1)\n",
        "print(\"A \",metrics.accuracy_score(y_test_1, y_pred_1))\n",
        "print(\"P \",metrics.precision_score(y_test_1,y_pred_1))\n",
        "print(\"R \",metrics.recall_score(y_test_1,y_pred_1))\n",
        "print(\"F1 \",metrics.f1_score(y_test_1,y_pred_1))"
      ],
      "metadata": {
        "colab": {
          "base_uri": "https://localhost:8080/"
        },
        "id": "UMSpj1fEtxeV",
        "outputId": "6d00278a-4d49-40df-cc94-b8e15d94197b"
      },
      "execution_count": 7,
      "outputs": [
        {
          "output_type": "stream",
          "name": "stdout",
          "text": [
            "A  0.9008264462809917\n",
            "P  0.8705882352941177\n",
            "R  0.9866666666666667\n",
            "F1  0.925\n"
          ]
        }
      ]
    },
    {
      "cell_type": "code",
      "source": [
        "from sklearn.naive_bayes import GaussianNB\n",
        "model_2 = GaussianNB().fit(X_train_2, y_train_2)\n",
        "y_pred_2 = model_2.predict(X_test_2)\n",
        "print(\"A \",metrics.accuracy_score(y_test_2, y_pred_2))\n",
        "print(\"P \",metrics.precision_score(y_test_2,y_pred_2))\n",
        "print(\"R \",metrics.recall_score(y_test_2,y_pred_2))\n",
        "print(\"F1 \",metrics.f1_score(y_test_2,y_pred_2))"
      ],
      "metadata": {
        "colab": {
          "base_uri": "https://localhost:8080/"
        },
        "id": "R7sLPLuJtxhZ",
        "outputId": "6f2e34e7-20a8-4184-b143-e5abc4ced6c3"
      },
      "execution_count": 10,
      "outputs": [
        {
          "output_type": "stream",
          "name": "stdout",
          "text": [
            "A  0.9008264462809917\n",
            "P  0.9166666666666666\n",
            "R  0.9390243902439024\n",
            "F1  0.9277108433734941\n"
          ]
        }
      ]
    },
    {
      "cell_type": "code",
      "source": [
        "from sklearn.naive_bayes import MultinomialNB\n",
        "model_3 = MultinomialNB().fit(X_train_3, y_train_3)\n",
        "y_pred_3 = model_3.predict(X_test_3)\n",
        "print(\"A \",metrics.accuracy_score(y_test_3, y_pred_3))\n",
        "print(\"P \",metrics.precision_score(y_test_3,y_pred_3))\n",
        "print(\"R \",metrics.recall_score(y_test_3,y_pred_3))\n",
        "print(\"F1 \",metrics.f1_score(y_test_3,y_pred_3))"
      ],
      "metadata": {
        "colab": {
          "base_uri": "https://localhost:8080/"
        },
        "id": "yUENQPnttxkj",
        "outputId": "00759570-e405-4c17-cde0-f9e8be6b02fa"
      },
      "execution_count": 9,
      "outputs": [
        {
          "output_type": "stream",
          "name": "stdout",
          "text": [
            "A  0.7603305785123967\n",
            "P  0.7070707070707071\n",
            "R  1.0\n",
            "F1  0.8284023668639052\n"
          ]
        }
      ]
    },
    {
      "cell_type": "code",
      "source": [
        "from sklearn.linear_model import LogisticRegression\n",
        "y_train_final = []\n",
        "X_train_final = []\n",
        "y_train_final_1 = model_1.predict(X_train)\n",
        "y_train_final_2 = model_2.predict(X_train)\n",
        "y_train_final_3 = model_3.predict(X_train)\n",
        "\n",
        "for i in range(len(y_train_final_1)):\n",
        "  X_train_final.append([y_train_final_1[i], y_train_final_2[i], y_train_final_3[i]])\n",
        "  y_train_final.append(y_train[i])\n",
        "model_final = LogisticRegression().fit(X_train_final, y_train_final)\n",
        "X_test_final = []\n",
        "y_test_final = []\n",
        "y_test_final_1 = model_1.predict(X_test)\n",
        "y_test_final_2 = model_2.predict(X_test)\n",
        "y_test_final_3 = model_3.predict(X_test)\n",
        "\n",
        "for i in range(len(y_test_final_1)):\n",
        "  X_test_final.append([y_test_final_1[i], y_test_final_2[i], y_test_final_3[i]])\n",
        "  y_test_final.append(y_test[i])\n",
        "\n",
        "y_pred_final = model_final.predict(X_test_final)\n",
        "print(\"A \",metrics.accuracy_score(y_test_final, y_pred_final))\n",
        "print(\"P\",metrics.precision_score(y_test_final,y_pred_final))\n",
        "print(\"R \",metrics.recall_score(y_test_final,y_pred_final))\n",
        "print(\"F1 \",metrics.f1_score(y_test_final,y_pred_final))"
      ],
      "metadata": {
        "colab": {
          "base_uri": "https://localhost:8080/"
        },
        "id": "-ACPF-ZZugyr",
        "outputId": "d4df4060-078c-40d0-d0be-6b597d50e973"
      },
      "execution_count": 11,
      "outputs": [
        {
          "output_type": "stream",
          "name": "stdout",
          "text": [
            "A  0.8953488372093024\n",
            "P 0.9361702127659575\n",
            "R  0.88\n",
            "F1  0.9072164948453608\n"
          ]
        }
      ]
    },
    {
      "cell_type": "code",
      "source": [
        "# stacking\n",
        "from sklearn.ensemble import StackingClassifier\n",
        "from sklearn.ensemble import BaggingClassifier\n",
        "estimators = [('gnb', GaussianNB()),('dt', tree.DecisionTreeClassifier(max_depth=1)),('mnb', MultinomialNB())]\n",
        "model_stacked = StackingClassifier(estimators=estimators).fit(X_train, y_train)\n",
        "y_pred_stacked = model_stacked.predict(X_test)\n",
        "print(\"A \",metrics.accuracy_score(y_test, y_pred_stacked))\n",
        "print(\"P \",metrics.precision_score(y_test,y_pred_stacked))\n",
        "print(\"R \",metrics.recall_score(y_test,y_pred_stacked))\n",
        "print(\"F1 \",metrics.f1_score(y_test,y_pred_stacked))\n",
        "\n",
        "\n",
        "model_bagged = BaggingClassifier(max_features = 0.67).fit(X_train, y_train)\n",
        "y_pred_bagged = model_bagged.predict(X_test)\n",
        "print(\"A \",metrics.accuracy_score(y_test, y_pred_bagged))\n",
        "print(\"P \",metrics.precision_score(y_test,y_pred_bagged))\n",
        "print(\"R \",metrics.recall_score(y_test,y_pred_bagged))\n",
        "print(\"F1 \",metrics.f1_score(y_test,y_pred_bagged))"
      ],
      "metadata": {
        "colab": {
          "base_uri": "https://localhost:8080/"
        },
        "id": "lSsr03Teug1d",
        "outputId": "42670fdb-7873-473e-e451-2f36df712f74"
      },
      "execution_count": 13,
      "outputs": [
        {
          "output_type": "stream",
          "name": "stdout",
          "text": [
            "A  0.9069767441860465\n",
            "P  0.9375\n",
            "R  0.9\n",
            "F1  0.9183673469387755\n",
            "A  0.9302325581395349\n",
            "P  0.9583333333333334\n",
            "R  0.92\n",
            "F1  0.9387755102040817\n"
          ]
        }
      ]
    },
    {
      "cell_type": "code",
      "source": [
        "from sklearn.ensemble import RandomForestClassifier\n",
        "from sklearn.ensemble import AdaBoostClassifier\n",
        "model_random_forest = RandomForestClassifier(n_estimators=100).fit(X_train, y_train)\n",
        "y_pred_random_forest = model_random_forest.predict(X_test)\n",
        "print(\"A \",metrics.accuracy_score(y_test, y_pred_random_forest))\n",
        "print(\"P \",metrics.precision_score(y_test,y_pred_random_forest))\n",
        "print(\"R \",metrics.recall_score(y_test,y_pred_random_forest))\n",
        "print(\"F1 \",metrics.f1_score(y_test,y_pred_random_forest))\n",
        "\n",
        "\n",
        "model_adaboost = AdaBoostClassifier(n_estimators=100, learning_rate=1).fit(X_train, y_train)\n",
        "y_pred_adaboost = model_adaboost.predict(X_test)\n",
        "print(\"A \",metrics.accuracy_score(y_test, y_pred_adaboost))\n",
        "print(\"P \",metrics.precision_score(y_test,y_pred_adaboost))\n",
        "print(\"R \",metrics.recall_score(y_test,y_pred_adaboost))\n",
        "print(\"F1 \",metrics.f1_score(y_test,y_pred_adaboost))"
      ],
      "metadata": {
        "id": "IXPoYTGYug4f"
      },
      "execution_count": null,
      "outputs": []
    }
  ]
}