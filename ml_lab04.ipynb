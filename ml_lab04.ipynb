{
  "cells": [
    {
      "cell_type": "code",
      "execution_count": 16,
      "metadata": {
        "colab": {
          "base_uri": "https://localhost:8080/"
        },
        "id": "cKfboSx4fHAH",
        "outputId": "2e747fe4-e0db-4d62-ba64-dc50fda48712"
      },
      "outputs": [
        {
          "output_type": "stream",
          "name": "stdout",
          "text": [
            "[[ 73.  67.  43.]\n",
            " [ 91.  88.  64.]\n",
            " [ 87. 134.  58.]\n",
            " [102.  43.  37.]\n",
            " [ 69.  96.  70.]\n",
            " [ 73.  67.  43.]\n",
            " [ 91.  88.  64.]\n",
            " [ 87. 134.  58.]\n",
            " [102.  43.  37.]\n",
            " [ 69.  96.  70.]\n",
            " [ 73.  67.  43.]\n",
            " [ 91.  88.  64.]]\n",
            "[[ 56.  70.]\n",
            " [ 81. 101.]\n",
            " [119. 133.]\n",
            " [ 22.  37.]\n",
            " [103. 119.]\n",
            " [ 56.  70.]\n",
            " [ 81. 101.]\n",
            " [119. 133.]\n",
            " [ 22.  37.]\n",
            " [103. 119.]\n",
            " [ 56.  70.]\n",
            " [ 81. 101.]]\n"
          ]
        }
      ],
      "source": [
        "import numpy as np\n",
        "import torch\n",
        "import random\n",
        "\n",
        "inputs = np.array([[73, 67, 43],\n",
        "                    [91, 88, 64],\n",
        "                    [87, 134, 58],\n",
        "                    [102, 43, 37],\n",
        "                    [69, 96, 70]], dtype='float32')\n",
        "\n",
        "targets = np.array([[56],\n",
        "                    [81],\n",
        "                    [119],\n",
        "                    [22],\n",
        "                    [103]], dtype='float32')\n",
        "print(inputs)\n",
        "print(targets)"
      ]
    },
    {
      "cell_type": "code",
      "source": [
        "tensor_inputs = torch.from_numpy(inputs)\n",
        "tensor_targets = torch.from_numpy(targets)\n",
        "print(tensor_inputs)\n",
        "print(tensor_targets)"
      ],
      "metadata": {
        "colab": {
          "base_uri": "https://localhost:8080/"
        },
        "id": "bs-RMBI4cmTt",
        "outputId": "16cffe4a-ce4d-435c-9f23-a45ccb8b859a"
      },
      "execution_count": 17,
      "outputs": [
        {
          "output_type": "stream",
          "name": "stdout",
          "text": [
            "tensor([[ 73.,  67.,  43.],\n",
            "        [ 91.,  88.,  64.],\n",
            "        [ 87., 134.,  58.],\n",
            "        [102.,  43.,  37.],\n",
            "        [ 69.,  96.,  70.],\n",
            "        [ 73.,  67.,  43.],\n",
            "        [ 91.,  88.,  64.],\n",
            "        [ 87., 134.,  58.],\n",
            "        [102.,  43.,  37.],\n",
            "        [ 69.,  96.,  70.],\n",
            "        [ 73.,  67.,  43.],\n",
            "        [ 91.,  88.,  64.]])\n",
            "tensor([[ 56.,  70.],\n",
            "        [ 81., 101.],\n",
            "        [119., 133.],\n",
            "        [ 22.,  37.],\n",
            "        [103., 119.],\n",
            "        [ 56.,  70.],\n",
            "        [ 81., 101.],\n",
            "        [119., 133.],\n",
            "        [ 22.,  37.],\n",
            "        [103., 119.],\n",
            "        [ 56.,  70.],\n",
            "        [ 81., 101.]])\n"
          ]
        }
      ]
    },
    {
      "cell_type": "code",
      "source": [
        "weight = torch.randn(1,3)\n",
        "biases = torch.randn(1,1)\n",
        "print(weight)\n",
        "print(biases)"
      ],
      "metadata": {
        "colab": {
          "base_uri": "https://localhost:8080/"
        },
        "id": "RD1Z6bTFcyH5",
        "outputId": "77deaa2e-0763-49ea-962a-6703e786f943"
      },
      "execution_count": 11,
      "outputs": [
        {
          "output_type": "stream",
          "name": "stdout",
          "text": [
            "tensor([[1.6030, 1.6859, 1.0152]])\n",
            "tensor([[-0.3573]])\n"
          ]
        }
      ]
    },
    {
      "cell_type": "code",
      "source": [
        "from torch.utils.data import TensorDataset, DataLoader\n",
        "import torch.nn.functional as fn\n",
        "dataset= TensorDataset(inputs,targets)\n",
        "dataset[0]\n",
        "dataloader = DataLoader(dataset,batch_size=15, shuffle=True)\n",
        "model = nn.Linear(in_features=3, out_features=2, bias=True)\n",
        "optimizer = torch.optim.SGD(model.parameters(), 0.0001)\n",
        "loss_fn = fn.mse_loss"
      ],
      "metadata": {
        "id": "cWa4WzZJeP8Y"
      },
      "execution_count": null,
      "outputs": []
    },
    {
      "cell_type": "code",
      "source": [
        "def fit(num_epochs:int, model, loss_fn, optimizer):\n",
        "  for epoch in range(num_epochs):\n",
        "    batch = 0\n",
        "    for xb,yb in dataloader:\n",
        "      batch += 1\n",
        "      pred = model(xb)\n",
        "      loss = loss_fn(pred, yb)\n",
        "      optimizer.zero_grad()\n",
        "      loss.backward()\n",
        "      optimizer.step()\n",
        "      print('epoch {} batch {} batch size {} loss {}'.format(epoch,batch,len(xb),loss.item()))\n",
        "\n",
        "fit(1000, model,loss_fn, optimizer)\n",
        "data = torch.Tensor([[87, 134, 58], [102, 43, 37], [69, 96,70]])\n",
        "targets = torch.Tensor([[119, 133], [22, 37], [103, 119]])\n",
        "pre_data = model(data)\n",
        "print(\"Predict (after training): \",targets,\"\\n\", pre_data)"
      ],
      "metadata": {
        "id": "2XLepVbweiRe"
      },
      "execution_count": null,
      "outputs": []
    }
  ],
  "metadata": {
    "colab": {
      "provenance": []
    },
    "kernelspec": {
      "display_name": "Python 3",
      "name": "python3"
    },
    "language_info": {
      "name": "python"
    }
  },
  "nbformat": 4,
  "nbformat_minor": 0
}