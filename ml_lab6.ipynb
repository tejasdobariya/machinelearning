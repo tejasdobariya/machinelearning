{
  "nbformat": 4,
  "nbformat_minor": 0,
  "metadata": {
    "colab": {
      "provenance": []
    },
    "kernelspec": {
      "name": "python3",
      "display_name": "Python 3"
    },
    "language_info": {
      "name": "python"
    }
  },
  "cells": [
    {
      "cell_type": "code",
      "execution_count": 43,
      "metadata": {
        "colab": {
          "base_uri": "https://localhost:8080/"
        },
        "id": "Fa1F2HIOok94",
        "outputId": "7a918a84-e79b-4d9d-89f6-dfb28ebcb169"
      },
      "outputs": [
        {
          "output_type": "stream",
          "name": "stdout",
          "text": [
            "['This', 'is', 'a', 'sample', 'sentence', ',', 'showing', 'off', 'the', 'stop', 'words', 'filtration', '.']\n",
            "['This', 'sample', 'sentence', ',', 'showing', 'stop', 'words', 'filtration', '.']\n",
            "\n"
          ]
        },
        {
          "output_type": "stream",
          "name": "stderr",
          "text": [
            "[nltk_data] Downloading package stopwords to /root/nltk_data...\n",
            "[nltk_data]   Package stopwords is already up-to-date!\n",
            "[nltk_data] Downloading package punkt to /root/nltk_data...\n",
            "[nltk_data]   Package punkt is already up-to-date!\n"
          ]
        }
      ],
      "source": [
        "# utilities\n",
        "import re\n",
        "import numpy as np\n",
        "import pandas as pd\n",
        "import random\n",
        "import string\n",
        "from sklearn import tree\n",
        "# plotting\n",
        "import seaborn as sns\n",
        "from wordcloud import WordCloud\n",
        "import matplotlib.pyplot as plt\n",
        "# nltk\n",
        "import nltk\n",
        "nltk.download('stopwords')\n",
        "from nltk.stem import WordNetLemmatizer\n",
        "nltk.download('punkt')\n",
        "from nltk import word_tokenize\n",
        "# sklearn\n",
        "from sklearn.svm import LinearSVC\n",
        "from sklearn.naive_bayes import BernoulliNB\n",
        "from sklearn.naive_bayes import MultinomialNB\n",
        "from sklearn.linear_model import LogisticRegression\n",
        "from sklearn.model_selection import train_test_split\n",
        "from sklearn.feature_extraction.text import TfidfVectorizer\n",
        "from sklearn import metrics\n",
        "from sklearn.feature_extraction.text import CountVectorizer\n",
        "from sklearn.model_selection import train_test_split\n",
        "from nltk.corpus import stopwords\n",
        "from nltk.stem import PorterStemmer\n",
        "from nltk.tokenize import TweetTokenizer\n",
        "from nltk.stem import WordNetLemmatizer\n",
        "\n",
        "example_sent = \"\"\"This is a sample sentence,\n",
        "                  showing off the stop words filtration.\"\"\"\n",
        "  \n",
        "stop_words = set(stopwords.words('english'))\n",
        "word_tokens = word_tokenize(example_sent)\n",
        "\n",
        "# converts the words in word_tokens to lower case and then checks whether \n",
        "#they are present in stop_words or not\n",
        "filtered_sentence = [w for w in word_tokens if not w.lower() in stop_words]\n",
        "#with no lower case conversion\n",
        "filtered_sentence = []\n",
        "  \n",
        "for w in word_tokens:\n",
        "    if w not in stop_words:\n",
        "        filtered_sentence.append(w)\n",
        "  \n",
        "print(word_tokens)\n",
        "print(filtered_sentence)\n",
        "print()\n"
      ]
    },
    {
      "cell_type": "markdown",
      "source": [
        "# New Section"
      ],
      "metadata": {
        "id": "2tVOljJW0pTw"
      }
    },
    {
      "cell_type": "code",
      "source": [
        "columns = [\"sentiment\", \"id\", \"date\", \"query\", \"user_id\", \"text\"]\n",
        "df = pd.read_csv(\"/content/drive/MyDrive/sem6 myfolder/mldatasets/training.1600000.processed.noemoticon.csv\", encoding=\"latin\",names=columns)"
      ],
      "metadata": {
        "id": "ZxsUbKMw1LDR"
      },
      "execution_count": 44,
      "outputs": []
    },
    {
      "cell_type": "code",
      "source": [
        "df.head()\n",
        "df[\"sentiment\"] = df[\"sentiment\"].replace(4,1)\n",
        "sns.countplot(x=\"sentiment\",data=df)"
      ],
      "metadata": {
        "colab": {
          "base_uri": "https://localhost:8080/",
          "height": 296
        },
        "id": "dPI8Zu725uwS",
        "outputId": "6481788e-c260-4491-a0d7-424d2daf2c49"
      },
      "execution_count": 45,
      "outputs": [
        {
          "output_type": "execute_result",
          "data": {
            "text/plain": [
              "<matplotlib.axes._subplots.AxesSubplot at 0x7fc162bbd370>"
            ]
          },
          "metadata": {},
          "execution_count": 45
        },
        {
          "output_type": "display_data",
          "data": {
            "text/plain": [
              "<Figure size 432x288 with 1 Axes>"
            ],
            "image/png": "[encoded data removed]"
          },
          "metadata": {
            "needs_background": "light"
          }
        }
      ]
    },
    {
      "cell_type": "code",
      "source": [
        "\n",
        "negative_tweets = df[df['sentiment'] == 0]['text'].tolist()[6996:7996]\n",
        "positive_tweets = df[df['sentiment'] == 1]['text'].tolist()[1331:2331]\n",
        "tweet = positive_tweets[random.randint(0,len(positive_tweets))]\n",
        "print('\\033[92m'+tweet)\n",
        "print('\\033[93m')\n",
        "tweet2 = re.sub(r'https?:\\/\\/.*[\\r\\n]*','',tweet);\n",
        "tweet2 = re.sub(r'#','',tweet2)\n",
        "print(tweet2)"
      ],
      "metadata": {
        "colab": {
          "base_uri": "https://localhost:8080/"
        },
        "id": "I_hci26J-kxD",
        "outputId": "400ccfbd-d09e-457c-bea6-92f6652167ae"
      },
      "execution_count": 46,
      "outputs": [
        {
          "output_type": "stream",
          "name": "stdout",
          "text": [
            "\u001b[92m@Mike_Greening .Man - you need to get back on the horse. \n",
            "\u001b[93m\n",
            "@Mike_Greening .Man - you need to get back on the horse. \n"
          ]
        }
      ]
    },
    {
      "cell_type": "code",
      "source": [
        "stopwordlist = ['a', 'about', 'above', 'after', 'again', 'ain', 'all', 'am', 'an',\n",
        "             'and','any','are', 'as', 'at', 'be', 'because', 'been', 'before',\n",
        "             'being', 'below', 'between','both', 'by', 'can', 'd', 'did', 'do',\n",
        "             'does', 'doing', 'down', 'during', 'each','few', 'for', 'from',\n",
        "             'further', 'had', 'has', 'have', 'having', 'he', 'her', 'here',\n",
        "             'hers', 'herself', 'him', 'himself', 'his', 'how', 'i', 'if', 'in',\n",
        "             'into','is', 'it', 'its', 'itself', 'just', 'll', 'm', 'ma',\n",
        "             'me', 'more', 'most','my', 'myself', 'now', 'o', 'of', 'on', 'once',\n",
        "             'only', 'or', 'other', 'our', 'ours','ourselves', 'out', 'own', 're','s', 'same', 'she', \"shes\", 'should', \"shouldve\",'so', 'some', 'such',\n",
        "             't', 'than', 'that', \"thatll\", 'the', 'their', 'theirs', 'them',\n",
        "             'themselves', 'then', 'there', 'these', 'they', 'this', 'those',\n",
        "             'through', 'to', 'too','under', 'until', 'up', 've', 'very', 'was',\n",
        "             'we', 'were', 'what', 'when', 'where','which','while', 'who', 'whom',\n",
        "             'why', 'will', 'with', 'won', 'y', 'you', \"youd\",\"youll\", \"youre\",\n",
        "             \"youve\", 'your', 'yours', 'yourself', 'yourselves']"
      ],
      "metadata": {
        "id": "2u3uvzIf_Dyr"
      },
      "execution_count": 47,
      "outputs": []
    },
    {
      "cell_type": "code",
      "source": [
        "tokenizer = TweetTokenizer(preserve_case=False)\n",
        "tweet_tokens = tokenizer.tokenize(tweet2)\n",
        "print('Tokenized string: ')\n",
        "print(tweet_tokens)\n",
        "stopwords_english = stopwords.words('english')\n",
        "print(stopwords_english)"
      ],
      "metadata": {
        "colab": {
          "base_uri": "https://localhost:8080/"
        },
        "id": "FPpyMoat_F8L",
        "outputId": "09c8a492-ff4d-4a5a-f48a-463c333fdcce"
      },
      "execution_count": 48,
      "outputs": [
        {
          "output_type": "stream",
          "name": "stdout",
          "text": [
            "Tokenized string: \n",
            "['@mike_greening', '.', 'man', '-', 'you', 'need', 'to', 'get', 'back', 'on', 'the', 'horse', '.']\n",
            "['i', 'me', 'my', 'myself', 'we', 'our', 'ours', 'ourselves', 'you', \"you're\", \"you've\", \"you'll\", \"you'd\", 'your', 'yours', 'yourself', 'yourselves', 'he', 'him', 'his', 'himself', 'she', \"she's\", 'her', 'hers', 'herself', 'it', \"it's\", 'its', 'itself', 'they', 'them', 'their', 'theirs', 'themselves', 'what', 'which', 'who', 'whom', 'this', 'that', \"that'll\", 'these', 'those', 'am', 'is', 'are', 'was', 'were', 'be', 'been', 'being', 'have', 'has', 'had', 'having', 'do', 'does', 'did', 'doing', 'a', 'an', 'the', 'and', 'but', 'if', 'or', 'because', 'as', 'until', 'while', 'of', 'at', 'by', 'for', 'with', 'about', 'against', 'between', 'into', 'through', 'during', 'before', 'after', 'above', 'below', 'to', 'from', 'up', 'down', 'in', 'out', 'on', 'off', 'over', 'under', 'again', 'further', 'then', 'once', 'here', 'there', 'when', 'where', 'why', 'how', 'all', 'any', 'both', 'each', 'few', 'more', 'most', 'other', 'some', 'such', 'no', 'nor', 'not', 'only', 'own', 'same', 'so', 'than', 'too', 'very', 's', 't', 'can', 'will', 'just', 'don', \"don't\", 'should', \"should've\", 'now', 'd', 'll', 'm', 'o', 're', 've', 'y', 'ain', 'aren', \"aren't\", 'couldn', \"couldn't\", 'didn', \"didn't\", 'doesn', \"doesn't\", 'hadn', \"hadn't\", 'hasn', \"hasn't\", 'haven', \"haven't\", 'isn', \"isn't\", 'ma', 'mightn', \"mightn't\", 'mustn', \"mustn't\", 'needn', \"needn't\", 'shan', \"shan't\", 'shouldn', \"shouldn't\", 'wasn', \"wasn't\", 'weren', \"weren't\", 'won', \"won't\", 'wouldn', \"wouldn't\"]\n"
          ]
        }
      ]
    },
    {
      "cell_type": "code",
      "source": [
        "for i in range(len(positive_tweets)):\n",
        "  positive_tweets[i] = re.sub(r'''(https?:\\/\\/)(\\s)*(www\\.)?(\\s)*((\\w|\\s)+\\.)*([\\w\\-\\s]+\\/)*([\\w\\-]+)((\\?)?[\\w\\s]*=\\s*[\\w\\%&]*)*''','',positive_tweets[i]);\n",
        "  positive_tweets[i] = re.sub(r'#','',positive_tweets[i])\n",
        "  negative_tweets[i] = re.sub(r'''(https?:\\/\\/)(\\s)*(www\\.)?(\\s)*((\\w|\\s)+\\.)*([\\w\\-\\s]+\\/)*([\\w\\-]+)((\\?)?[\\w\\s]*=\\s*[\\w\\%&]*)*''','',negative_tweets[i]);\n",
        "  negative_tweets[i] = re.sub(r'#','',negative_tweets[i])\n",
        "tokenizer = TweetTokenizer(preserve_case=False)\n",
        "for i in range(len(positive_tweets)):\n",
        "  positive_tweets[i] = tokenizer.tokenize(positive_tweets[i])\n",
        "  negative_tweets[i] = tokenizer.tokenize(negative_tweets[i])\n",
        "for i in range(len(positive_tweets)):\n",
        "  temp_pos = [*positive_tweets[i]]\n",
        "  positive_tweets[i] = []\n",
        "  for word in temp_pos:\n",
        "    if (word not in stopwords_english and word not in string.punctuation):\n",
        "      positive_tweets[i].append(word)\n",
        "  temp_neg = [*negative_tweets[i]]\n",
        "  negative_tweets[i] = []\n",
        "  for word in temp_neg:\n",
        "    if (word not in stopwords_english and word not in string.punctuation):\n",
        "      negative_tweets[i].append(word)\n",
        "negative_tweets_storage = negative_tweets\n",
        "positive_tweets_storage = positive_tweets\n",
        "positive_tweets[0], negative_tweets[0]"
      ],
      "metadata": {
        "colab": {
          "base_uri": "https://localhost:8080/"
        },
        "id": "rlnrz3OugQIb",
        "outputId": "210a8f6e-aee5-4109-dbfb-e24fbe6119be"
      },
      "execution_count": 49,
      "outputs": [
        {
          "output_type": "execute_result",
          "data": {
            "text/plain": [
              "(['excited', 'skyhd', 'coming', 'today'], ['sad', 'want', 'cry'])"
            ]
          },
          "metadata": {},
          "execution_count": 49
        }
      ]
    },
    {
      "cell_type": "code",
      "source": [
        "positive_text = []\n",
        "for wordlist in positive_tweets:\n",
        "  positive_text = [*positive_text, \" \".join(wordlist)]"
      ],
      "metadata": {
        "id": "zd5F4Ovjg2Lc"
      },
      "execution_count": 50,
      "outputs": []
    },
    {
      "cell_type": "code",
      "source": [
        "negative_text = []\n",
        "for wordlist in negative_tweets:\n",
        "  negative_text = [*negative_text, \" \".join(wordlist)]"
      ],
      "metadata": {
        "id": "tmb5xXAEg2PP"
      },
      "execution_count": 51,
      "outputs": []
    },
    {
      "cell_type": "code",
      "source": [
        "vectorizer = CountVectorizer()\n",
        "data = []\n",
        "data_labels = []\n",
        "for word in positive_text:\n",
        "  data.append(word)\n",
        "  data_labels.append(1)\n",
        "for word in negative_text:\n",
        "  data.append(word)\n",
        "  data_labels.append(0)\n",
        "features = vectorizer.fit_transform(data)\n",
        "features_nd = features.toarray()\n",
        "from sklearn.model_selection import train_test_split\n",
        "X_train, X_test, y_train, y_test = train_test_split(\n",
        "    features_nd,\n",
        "    data_labels,\n",
        "    train_size = 0.85,\n",
        "    random_state = 31\n",
        ")\n",
        "model = MultinomialNB()\n",
        "model.fit(features_nd, data_labels)\n",
        "MultinomialNB()\n",
        "y_pred = model.predict(X_test)\n",
        "print(\"P \",metrics.precision_score(y_test,y_pred))\n",
        "print(\"A \",metrics.accuracy_score(y_test, y_pred))\n",
        "print(\"R \",metrics.recall_score(y_test,y_pred))\n",
        "print(\"F1 \",metrics.f1_score(y_test,y_pred))"
      ],
      "metadata": {
        "colab": {
          "base_uri": "https://localhost:8080/"
        },
        "id": "jOVTkK_Mg2RZ",
        "outputId": "46e61cb7-bf78-42c7-d3d8-f27a89563536"
      },
      "execution_count": 52,
      "outputs": [
        {
          "output_type": "stream",
          "name": "stdout",
          "text": [
            "P  0.951048951048951\n",
            "A  0.94\n",
            "R  0.9251700680272109\n",
            "F1  0.9379310344827587\n"
          ]
        }
      ]
    },
    {
      "cell_type": "code",
      "source": [],
      "metadata": {
        "id": "bQ3OzOwrg2Uf"
      },
      "execution_count": 52,
      "outputs": []
    },
    {
      "cell_type": "code",
      "source": [
        "clf = tree.DecisionTreeClassifier()\n",
        "clf = clf.fit(X_train, y_train)\n",
        "y_tree_pred = clf.predict(X_test)\n",
        "print(\"P \",metrics.precision_score(y_test,y_tree_pred))\n",
        "print(\"A \",metrics.accuracy_score(y_test, y_tree_pred))\n",
        "print(\"R \",metrics.recall_score(y_test,y_tree_pred))\n",
        "print(\"F1 \",metrics.f1_score(y_test,y_tree_pred))"
      ],
      "metadata": {
        "colab": {
          "base_uri": "https://localhost:8080/"
        },
        "id": "L-ZAqVsgg2X2",
        "outputId": "b10e9683-8111-4595-a8a8-55e870146213"
      },
      "execution_count": 53,
      "outputs": [
        {
          "output_type": "stream",
          "name": "stdout",
          "text": [
            "P  0.6214689265536724\n",
            "A  0.6533333333333333\n",
            "R  0.7482993197278912\n",
            "F1  0.6790123456790124\n"
          ]
        }
      ]
    },
    {
      "cell_type": "code",
      "source": [
        "# Naive bayes perfoms better."
      ],
      "metadata": {
        "id": "iROOJ12HiYot"
      },
      "execution_count": 54,
      "outputs": []
    }
  ]
}