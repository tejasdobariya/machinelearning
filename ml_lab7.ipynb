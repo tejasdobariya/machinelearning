{
  "nbformat": 4,
  "nbformat_minor": 0,
  "metadata": {
    "colab": {
      "provenance": []
    },
    "kernelspec": {
      "name": "python3",
      "display_name": "Python 3"
    },
    "language_info": {
      "name": "python"
    }
  },
  "cells": [
    {
      "cell_type": "code",
      "execution_count": 18,
      "metadata": {
        "id": "tNE1Fc_grAFm"
      },
      "outputs": [],
      "source": [
        "import numpy as np\n",
        "import pandas as pd\n",
        "import io\n",
        "import math\n",
        "import matplotlib.pyplot as plt\n",
        "from sklearn.linear_model import LogisticRegression\n",
        "from sklearn import metrics"
      ]
    },
    {
      "cell_type": "code",
      "source": [
        "from google.colab import files\n",
        "data = pd.read_csv('/content/drive/MyDrive/sem6 myfolder/mldatasets/BuyComputer.csv')\n",
        "data.drop(columns=['User ID',],axis=1,inplace=True)\n",
        "data.head()\n",
        "x = data[[\"Age\", \"EstimatedSalary\"]]\n",
        "y = data[\"Purchased\"]\n",
        "x, y"
      ],
      "metadata": {
        "id": "i8q6GdKitJ3H",
        "colab": {
          "base_uri": "https://localhost:8080/"
        },
        "outputId": "e1c2e7af-ba5a-4fa2-8941-8e715740ded6"
      },
      "execution_count": 19,
      "outputs": [
        {
          "output_type": "execute_result",
          "data": {
            "text/plain": [
              "(     Age  EstimatedSalary\n",
              " 0     19            19000\n",
              " 1     35            20000\n",
              " 2     26            43000\n",
              " 3     27            57000\n",
              " 4     19            76000\n",
              " ..   ...              ...\n",
              " 395   46            41000\n",
              " 396   51            23000\n",
              " 397   50            20000\n",
              " 398   36            33000\n",
              " 399   49            36000\n",
              " \n",
              " [400 rows x 2 columns], 0      0\n",
              " 1      0\n",
              " 2      0\n",
              " 3      0\n",
              " 4      0\n",
              "       ..\n",
              " 395    1\n",
              " 396    1\n",
              " 397    1\n",
              " 398    0\n",
              " 399    1\n",
              " Name: Purchased, Length: 400, dtype: int64)"
            ]
          },
          "metadata": {},
          "execution_count": 19
        }
      ]
    },
    {
      "cell_type": "code",
      "source": [
        "from sklearn.model_selection import train_test_split\n",
        "from sklearn.preprocessing import StandardScaler\n",
        "X_train, X_test, y_train, y_test = train_test_split(x,y, train_size=0.75, random_state=88)\n",
        "X_train.shape, X_test.shape, y_train.shape, y_test.shape, X_train.head()\n",
        "sc = StandardScaler()\n",
        "X_train = sc.fit_transform(X_train)\n",
        "y_train, y_test = y_train.tolist(), y_test.tolist()\n",
        "X_test = sc.transform(X_test)\n",
        "X_train[:5], y_train[:5]"
      ],
      "metadata": {
        "id": "lClRhSSetK_-",
        "colab": {
          "base_uri": "https://localhost:8080/"
        },
        "outputId": "b238871a-7435-4bf7-e8ec-080bbb0bbfb4"
      },
      "execution_count": 20,
      "outputs": [
        {
          "output_type": "execute_result",
          "data": {
            "text/plain": [
              "(array([[ 0.99513555, -0.82080737],\n",
              "        [ 0.99513555, -1.14326741],\n",
              "        [ 1.474796  ,  0.08794365],\n",
              "        [-0.25198162,  0.17588729],\n",
              "        [ 0.13174674,  0.1172582 ]]), [1, 1, 1, 0, 0])"
            ]
          },
          "metadata": {},
          "execution_count": 20
        }
      ]
    },
    {
      "cell_type": "code",
      "source": [
        "def model(x_age, x_salary, theta_0, theta_age, theta_salary):\n",
        "  return 1 / (1 + math.exp(-1 * (theta_0 + theta_age*x_age + theta_salary*x_salary)))\n",
        "math.exp(2), math.exp(1)**2, np.exp(1)\n",
        "model(X_train[1][0], X_train[1][1],1,1,1), y[1]"
      ],
      "metadata": {
        "id": "NVwIZIVFtLI2",
        "colab": {
          "base_uri": "https://localhost:8080/"
        },
        "outputId": "db1a07a0-40c5-4d1f-f0d6-5c603f69ced8"
      },
      "execution_count": 21,
      "outputs": [
        {
          "output_type": "execute_result",
          "data": {
            "text/plain": [
              "(0.7009588808924954, 0)"
            ]
          },
          "metadata": {},
          "execution_count": 21
        }
      ]
    },
    {
      "cell_type": "code",
      "source": [
        "def loss(y_pred, y_actual):\n",
        "  return (y_actual) and (-1 * math.log10(y_pred)) or (-1 * math.log10(1 - y_pred))\n",
        "loss(model(X_train[0][0], X_train[0][1],1,1,1), y_train[0]), y_train[0], model(X_train[0][0], X_train[0][1],1,1,1)\n",
        "def update(theta, lr, m, y_pred, y_actual, feature_i=0):\n",
        "  summation = 0\n",
        "  for i in range(len(y_pred)):\n",
        "    summation = summation + (y_pred[i] - y_actual[i])*(feature_i and feature_i[i] or 1)\n",
        "  return theta - (lr/m)*summation"
      ],
      "metadata": {
        "id": "Dh3gZPeWkoq4"
      },
      "execution_count": 22,
      "outputs": []
    },
    {
      "cell_type": "code",
      "source": [
        "theta_0, theta_age, theta_salary = 1,1,1\n",
        "epochs = 10 # 100\n",
        "learning_rate = 10\n",
        "X_train_df = pd.DataFrame(X_train, columns=[\"Age\", \"EstimatedSalary\"])\n",
        "age = X_train_df[\"Age\"].tolist()\n",
        "estimated_salary = X_train_df[\"EstimatedSalary\"].tolist()\n",
        "for j in range(epochs):\n",
        "  y_train_pred = []\n",
        "  m = len(X_train)\n",
        "  for i in range(m):\n",
        "    y_train_pred.append(model(X_train[i][0], X_train[i][1], theta_0, theta_age, theta_salary))\n",
        "    loss_value = loss(y_train_pred[i], y_train[i])\n",
        "  theta_0 = update(theta_0, learning_rate, m, y_train_pred, y_train)\n",
        "  theta_age = update(theta_age, learning_rate, m, y_train_pred, y_train, age)\n",
        "  theta_salary = update(theta_salary, learning_rate, m, y_train_pred, y_train, estimated_salary)\n",
        "\n",
        "y_test_pred = []\n",
        "for i in range(len(X_test)):\n",
        "  if model(X_test[i][0], X_test[i][1], theta_0, theta_age, theta_salary) < 0.5:\n",
        "    y_test_pred.append(0)\n",
        "  else:\n",
        "    y_test_pred.append(1)\n",
        "TP, FP, TN, FN = 0,0,0,0\n",
        "\n",
        "for i in range(len(X_test)):\n",
        "  if y_test_pred[i]==1 and y_test[i]==1:\n",
        "    TP = TP+1\n",
        "  if y_test[i]==0 and y_test_pred[i]==1:\n",
        "    FP = FP+1\n",
        "  if y_test_pred[i]==0 and y_test[i]==0:\n",
        "    TN = TN+1\n",
        "  if y_test_pred[i]==0 and y_test[i]==1:\n",
        "    FN = FN+1\n",
        "P = TP/(TP+FP)\n",
        "A = (TP+TN)/len(X_test)\n",
        "R = TP/(TP+FN)\n",
        "F1_Score = (2*P*R)/(P+R)\n",
        "print(f\"A: {A}\\nP: {P}\\nR: {R}\\nF Score: {F1_Score}\")\n",
        "\n",
        " "
      ],
      "metadata": {
        "colab": {
          "base_uri": "https://localhost:8080/"
        },
        "id": "lXEfA3YSkotx",
        "outputId": "1f96c6c2-3c75-4b80-dc44-2167d0254327"
      },
      "execution_count": 23,
      "outputs": [
        {
          "output_type": "stream",
          "name": "stdout",
          "text": [
            "A: 0.85\n",
            "P: 0.8787878787878788\n",
            "R: 0.725\n",
            "F Score: 0.7945205479452054\n"
          ]
        }
      ]
    },
    {
      "cell_type": "code",
      "source": [],
      "metadata": {
        "id": "7977r6Hvkow6"
      },
      "execution_count": 23,
      "outputs": []
    },
    {
      "cell_type": "code",
      "source": [
        "model=LogisticRegression()\n",
        "model.fit(X_train,y_train)"
      ],
      "metadata": {
        "colab": {
          "base_uri": "https://localhost:8080/"
        },
        "id": "4-h38UJA3YRV",
        "outputId": "8ef8395e-de0d-4280-d96e-a831c70bc1b5"
      },
      "execution_count": 24,
      "outputs": [
        {
          "output_type": "execute_result",
          "data": {
            "text/plain": [
              "LogisticRegression()"
            ]
          },
          "metadata": {},
          "execution_count": 24
        }
      ]
    },
    {
      "cell_type": "code",
      "source": [
        "y_pred = model.predict(X_test)\n",
        "print(y_pred)\n",
        "print(\"A \",metrics.accuracy_score(y_test, y_pred))\n",
        "print(\"P \",metrics.precision_score(y_test,y_pred))\n",
        "print(\"R \",metrics.recall_score(y_test,y_pred))\n",
        "print(\"F1 \",metrics.f1_score(y_test,y_pred))"
      ],
      "metadata": {
        "colab": {
          "base_uri": "https://localhost:8080/"
        },
        "id": "NOsh0TxN3RRY",
        "outputId": "f980e14c-8a99-458c-c657-81d676ca76aa"
      },
      "execution_count": 25,
      "outputs": [
        {
          "output_type": "stream",
          "name": "stdout",
          "text": [
            "[0 0 1 0 0 1 0 0 0 0 0 0 0 0 0 0 0 1 0 0 0 0 0 1 0 1 0 1 0 0 0 0 0 0 0 0 0\n",
            " 1 1 0 1 0 0 0 1 1 1 1 0 0 1 0 1 0 0 0 0 0 1 1 1 0 0 1 1 1 1 0 1 1 0 1 0 1\n",
            " 0 1 0 0 0 1 0 0 0 1 0 0 0 1 0 0 0 1 0 0 0 0 1 0 0 0]\n",
            "A  0.84\n",
            "P  0.875\n",
            "R  0.7\n",
            "F1  0.7777777777777777\n"
          ]
        }
      ]
    }
  ]
}