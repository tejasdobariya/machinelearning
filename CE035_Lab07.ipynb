{
  "nbformat": 4,
  "nbformat_minor": 0,
  "metadata": {
    "colab": {
      "provenance": []
    },
    "kernelspec": {
      "name": "python3",
      "display_name": "Python 3"
    },
    "language_info": {
      "name": "python"
    }
  },
  "cells": [
    {
      "cell_type": "code",
      "execution_count": 16,
      "metadata": {
        "id": "tNE1Fc_grAFm"
      },
      "outputs": [],
      "source": [
        "import numpy as np\n",
        "import pandas as pd\n",
        "import io\n",
        "import math\n",
        "import matplotlib.pyplot as plt\n",
        "from sklearn.linear_model import LogisticRegression\n",
        "from sklearn import metrics"
      ]
    },
    {
      "cell_type": "code",
      "source": [
        "from google.colab import files\n",
        "data = pd.read_csv('/content/drive/MyDrive/sem6 myfolder/mldatasets/BuyComputer.csv')\n",
        "data.drop(columns=['User ID',],axis=1,inplace=True)\n",
        "data.head()\n",
        "x = data[[\"Age\", \"EstimatedSalary\"]]\n",
        "y = data[\"Purchased\"]\n",
        "x, y"
      ],
      "metadata": {
        "id": "i8q6GdKitJ3H",
        "colab": {
          "base_uri": "https://localhost:8080/"
        },
        "outputId": "9c78db01-aebb-4f45-f59f-92874604e49a"
      },
      "execution_count": 17,
      "outputs": [
        {
          "output_type": "execute_result",
          "data": {
            "text/plain": [
              "(     Age  EstimatedSalary\n",
              " 0     19            19000\n",
              " 1     35            20000\n",
              " 2     26            43000\n",
              " 3     27            57000\n",
              " 4     19            76000\n",
              " ..   ...              ...\n",
              " 395   46            41000\n",
              " 396   51            23000\n",
              " 397   50            20000\n",
              " 398   36            33000\n",
              " 399   49            36000\n",
              " \n",
              " [400 rows x 2 columns], 0      0\n",
              " 1      0\n",
              " 2      0\n",
              " 3      0\n",
              " 4      0\n",
              "       ..\n",
              " 395    1\n",
              " 396    1\n",
              " 397    1\n",
              " 398    0\n",
              " 399    1\n",
              " Name: Purchased, Length: 400, dtype: int64)"
            ]
          },
          "metadata": {},
          "execution_count": 17
        }
      ]
    },
    {
      "cell_type": "code",
      "source": [
        "from sklearn.model_selection import train_test_split\n",
        "from sklearn.preprocessing import StandardScaler\n",
        "X_train, X_test, y_train, y_test = train_test_split(x,y, train_size=0.75, random_state=35)\n",
        "X_train.shape, X_test.shape, y_train.shape, y_test.shape, X_train.head()\n",
        "sc = StandardScaler()\n",
        "X_train = sc.fit_transform(X_train)\n",
        "y_train, y_test = y_train.tolist(), y_test.tolist()\n",
        "X_test = sc.transform(X_test)\n",
        "X_train[:5], y_train[:5]"
      ],
      "metadata": {
        "id": "lClRhSSetK_-",
        "colab": {
          "base_uri": "https://localhost:8080/"
        },
        "outputId": "329067f9-113d-4e30-8899-781eb9b2d1c3"
      },
      "execution_count": 18,
      "outputs": [
        {
          "output_type": "execute_result",
          "data": {
            "text/plain": [
              "(array([[-0.18325783, -0.58101506],\n",
              "        [ 0.40368897,  0.30109282],\n",
              "        [ 0.3058645 , -0.52220786],\n",
              "        [-0.77020463, -1.55133372],\n",
              "        [-1.65062483,  0.06586405]]), [0, 0, 0, 0, 0])"
            ]
          },
          "metadata": {},
          "execution_count": 18
        }
      ]
    },
    {
      "cell_type": "code",
      "source": [
        "def model(x_age, x_salary, theta_0, theta_age, theta_salary):\n",
        "  return 1 / (1 + math.exp(-1 * (theta_0 + theta_age*x_age + theta_salary*x_salary)))\n",
        "math.exp(2), math.exp(1)**2, np.exp(1)\n",
        "model(X_train[1][0], X_train[1][1],1,1,1), y[1]"
      ],
      "metadata": {
        "id": "NVwIZIVFtLI2",
        "colab": {
          "base_uri": "https://localhost:8080/"
        },
        "outputId": "6e1fc023-1b92-4ef9-847c-b86921acebf2"
      },
      "execution_count": 19,
      "outputs": [
        {
          "output_type": "execute_result",
          "data": {
            "text/plain": [
              "(0.8461582324779812, 0)"
            ]
          },
          "metadata": {},
          "execution_count": 19
        }
      ]
    },
    {
      "cell_type": "code",
      "source": [
        "def loss(y_pred, y_actual):\n",
        "  return (y_actual) and (-1 * math.log10(y_pred)) or (-1 * math.log10(1 - y_pred))\n",
        "loss(model(X_train[0][0], X_train[0][1],1,1,1), y_train[0]), y_train[0], model(X_train[0][0], X_train[0][1],1,1,1)"
      ],
      "metadata": {
        "id": "Dh3gZPeWkoq4",
        "colab": {
          "base_uri": "https://localhost:8080/"
        },
        "outputId": "b0b17f82-bfc8-46fa-b630-559261299f15"
      },
      "execution_count": 20,
      "outputs": [
        {
          "output_type": "execute_result",
          "data": {
            "text/plain": [
              "(0.3552270987373124, 0, 0.5586603957285945)"
            ]
          },
          "metadata": {},
          "execution_count": 20
        }
      ]
    },
    {
      "cell_type": "code",
      "source": [
        "def update(theta, lr, m, y_pred, y_actual, feature_i=0):\n",
        "  summation = 0\n",
        "  for i in range(len(y_pred)):\n",
        "    summation = summation + (y_pred[i] - y_actual[i])*(feature_i and feature_i[i] or 1)\n",
        "  return theta - (lr/m)*summation"
      ],
      "metadata": {
        "id": "IzS-I12aJ5Pb"
      },
      "execution_count": 22,
      "outputs": []
    },
    {
      "cell_type": "code",
      "source": [
        "theta_0, theta_age, theta_salary = 1,1,1\n",
        "epochs = 100 \n",
        "learning_rate = 10\n",
        "X_train_df = pd.DataFrame(X_train, columns=[\"Age\", \"EstimatedSalary\"])\n",
        "age = X_train_df[\"Age\"].tolist()\n",
        "estimated_salary = X_train_df[\"EstimatedSalary\"].tolist()\n",
        "for j in range(epochs):\n",
        "  y_train_pred = []\n",
        "  m = len(X_train)\n",
        "  for i in range(m):\n",
        "    y_train_pred.append(model(X_train[i][0], X_train[i][1], theta_0, theta_age, theta_salary))\n",
        "    loss_value = loss(y_train_pred[i], y_train[i])\n",
        "  theta_0 = update(theta_0, learning_rate, m, y_train_pred, y_train)\n",
        "  theta_age = update(theta_age, learning_rate, m, y_train_pred, y_train, age)\n",
        "  theta_salary = update(theta_salary, learning_rate, m, y_train_pred, y_train, estimated_salary)\n",
        "print(loss_value)\n",
        "y_test_pred = []\n",
        "for i in range(len(X_test)):\n",
        "  if model(X_test[i][0], X_test[i][1], theta_0, theta_age, theta_salary) < 0.5:\n",
        "    y_test_pred.append(0)\n",
        "  else:\n",
        "    y_test_pred.append(1)\n",
        "TP, FP, TN, FN = 0,0,0,0\n",
        "\n",
        "for i in range(len(X_test)):\n",
        "  if y_test_pred[i]==1 and y_test[i]==1:\n",
        "    TP = TP+1\n",
        "  if y_test[i]==0 and y_test_pred[i]==1:\n",
        "    FP = FP+1\n",
        "  if y_test_pred[i]==0 and y_test[i]==0:\n",
        "    TN = TN+1\n",
        "  if y_test_pred[i]==0 and y_test[i]==1:\n",
        "    FN = FN+1\n",
        "P = TP/(TP+FP)\n",
        "A = (TP+TN)/len(X_test)\n",
        "R = TP/(TP+FN)\n",
        "F1_Score = (2*P*R)/(P+R)\n",
        "print(f\"A: {A}\\nP: {P}\\nR: {R}\\nF Score: {F1_Score}\")\n",
        "\n",
        " "
      ],
      "metadata": {
        "colab": {
          "base_uri": "https://localhost:8080/"
        },
        "id": "lXEfA3YSkotx",
        "outputId": "542f59b8-17d0-465b-8923-b02031b7774c"
      },
      "execution_count": 35,
      "outputs": [
        {
          "output_type": "stream",
          "name": "stdout",
          "text": [
            "0.8147144400275312\n",
            "A: 0.85\n",
            "P: 0.8888888888888888\n",
            "R: 0.6666666666666666\n",
            "F Score: 0.761904761904762\n"
          ]
        }
      ]
    },
    {
      "cell_type": "code",
      "source": [],
      "metadata": {
        "id": "7977r6Hvkow6"
      },
      "execution_count": 6,
      "outputs": []
    },
    {
      "cell_type": "code",
      "source": [
        "model=LogisticRegression()\n",
        "model.fit(X_train,y_train)"
      ],
      "metadata": {
        "colab": {
          "base_uri": "https://localhost:8080/"
        },
        "id": "4-h38UJA3YRV",
        "outputId": "bd4e25d2-2ee9-43c0-f339-0f697eaa8e87"
      },
      "execution_count": 37,
      "outputs": [
        {
          "output_type": "execute_result",
          "data": {
            "text/plain": [
              "LogisticRegression()"
            ]
          },
          "metadata": {},
          "execution_count": 37
        }
      ]
    },
    {
      "cell_type": "code",
      "source": [
        "y_pred = model.predict(X_test)\n",
        "print(y_pred)\n",
        "print(\"A \",metrics.accuracy_score(y_test, y_pred))\n",
        "print(\"P \",metrics.precision_score(y_test,y_pred))\n",
        "print(\"R \",metrics.recall_score(y_test,y_pred))\n",
        "print(\"F1 \",metrics.f1_score(y_test,y_pred))"
      ],
      "metadata": {
        "colab": {
          "base_uri": "https://localhost:8080/"
        },
        "id": "NOsh0TxN3RRY",
        "outputId": "268b9b72-a4a8-4264-8a70-e439a4a3d864"
      },
      "execution_count": 40,
      "outputs": [
        {
          "output_type": "stream",
          "name": "stdout",
          "text": [
            "[0 1 0 1 0 0 1 1 0 0 0 0 0 0 0 0 0 0 0 0 0 0 0 0 1 0 0 1 0 1 0 1 0 0 0 1 1\n",
            " 0 0 0 1 1 0 1 1 0 0 0 0 0 1 0 1 0 0 1 1 0 0 0 0 0 1 0 0 0 0 0 0 1 0 0 0 0\n",
            " 0 0 0 1 0 0 0 0 1 0 0 0 0 0 0 1 0 0 1 0 1 0 0 0 1 1]\n",
            "A  0.85\n",
            "P  0.8888888888888888\n",
            "R  0.6666666666666666\n",
            "F1  0.761904761904762\n"
          ]
        }
      ]
    }
  ]
}