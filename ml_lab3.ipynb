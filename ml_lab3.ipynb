{
  "nbformat": 4,
  "nbformat_minor": 0,
  "metadata": {
    "colab": {
      "provenance": []
    },
    "kernelspec": {
      "name": "python3",
      "display_name": "Python 3"
    },
    "language_info": {
      "name": "python"
    }
  },
  "cells": [
    {
      "cell_type": "code",
      "execution_count": 1,
      "metadata": {
        "colab": {
          "base_uri": "https://localhost:8080/"
        },
        "id": "mLs8-yo4tbTI",
        "outputId": "8adf8ae3-5d2e-4d0f-ea39-af539608d0fb"
      },
      "outputs": [
        {
          "output_type": "stream",
          "name": "stdout",
          "text": [
            "Weather: [2 2 0 1 1 1 0 2 2 1 2 0 0 1]\n",
            "Temp: [1 1 1 2 0 0 0 2 0 2 2 2 1 2]\n",
            "Play: [0 0 1 1 1 0 1 0 1 1 1 1 1 0]\n",
            "Features: ((2, 1), (2, 1), (0, 1), (1, 2), (1, 0), (1, 0), (0, 0), (2, 2), (2, 0), (1, 2), (2, 2), (0, 2), (0, 1), (1, 2))\n",
            "Predicted Value: [1]\n",
            "Predicted Value: [1]\n",
            "Predicted Value: [1]\n"
          ]
        }
      ],
      "source": [
        "from sklearn import preprocessing\n",
        "from sklearn.naive_bayes import GaussianNB, MultinomialNB\n",
        "\n",
        "weather = ['Sunny', 'Sunny', 'Overcast', 'Rainy', 'Rainy','Rainy', 'Overcast',\n",
        "'Sunny', 'Sunny', 'Rainy', 'Sunny', 'Overcast', 'Overcast', 'Rainy']\n",
        "\n",
        "temp = ['Hot','Hot','Hot','Mild','Cool','Cool','Cool','Mild',\n",
        "'Cool','Mild','Mild','Mild','Hot','Mild']\n",
        "\n",
        "play=['No','No','Yes','Yes','Yes','No','Yes','No','Yes',\n",
        "'Yes','Yes','Yes','Yes','No']\n",
        "\n",
        "#creating labelEncoder\n",
        "le = preprocessing.LabelEncoder()\n",
        "# Converting string labels into numbers.\n",
        "weather_encoded=le.fit_transform(weather)\n",
        "print(\"Weather:\" ,weather_encoded)\n",
        "\n",
        "temp_encoded=le.fit_transform(temp)\n",
        "label=le.fit_transform(play)\n",
        "print(\"Temp:\",temp_encoded)\n",
        "print(\"Play:\",label)\n",
        "\n",
        "#Combinig weather and temp into single listof tuples\n",
        "features=tuple(zip(weather_encoded,temp_encoded))\n",
        "print(\"Features:\",features)\n",
        "\n",
        "#Create a Classifier\n",
        "model=MultinomialNB()\n",
        "# Train the model using the training sets\n",
        "model.fit(features,label)\n",
        "\n",
        "#Predict Output\n",
        "predicted= model.predict([[0,2]]) # 0:Overcast, 2:Mild\n",
        "print(\"Predicted Value:\", predicted)\n",
        "predicted= model.predict([[0,1]]) # 0:Overcast, 1:Hot\n",
        "print(\"Predicted Value:\", predicted)\n",
        "predicted= model.predict([[2,2]]) # 2:Sunny, 2:Mild\n",
        "print(\"Predicted Value:\", predicted)"
      ]
    },
    {
      "cell_type": "code",
      "source": [],
      "metadata": {
        "id": "SD0nSsLkR7LG"
      },
      "execution_count": 1,
      "outputs": []
    },
    {
      "cell_type": "code",
      "source": [
        "#Import scikit-learn dataset library\n",
        "import numpy as np\n",
        "from sklearn import datasets\n",
        "from sklearn.naive_bayes import GaussianNB\n",
        "#Load dataset\n",
        "iris = datasets.load_iris()\n",
        "# print the names of the 13 features\n",
        "print(\"Features: \", iris.feature_names)\n",
        "# print the label type of wine(class_0, class_1, class_2)\n",
        "print(\"Labels: \", iris.target_names)\n",
        "# print data(feature)shape\n",
        "print(\"\\nData shape: \",iris.data.shape)\n",
        "#print data(target)shape\n",
        "print(\"\\nTraget shape: \",iris.target.shape)\n",
        "#print(\"\\nData: \",iris.data)\n",
        "#print(\"\\nTarget: \",iris.target)\n",
        "print(\"\\nData type: \",type(iris.data))\n",
        "newdata = iris.data[50:,:]\n",
        "newtarget = iris.target[50:]\n",
        "# print data(feature)shape\n",
        "print(\"\\nNew Data shape: \",newdata.shape)\n",
        "#print data(target)shape\n",
        "print(\"\\nNew Traget shape: \",newtarget.shape)"
      ],
      "metadata": {
        "colab": {
          "base_uri": "https://localhost:8080/"
        },
        "id": "XsNufKhiSDdl",
        "outputId": "3651a4a2-f4d5-42b0-b877-c71e4eac858c"
      },
      "execution_count": 2,
      "outputs": [
        {
          "output_type": "stream",
          "name": "stdout",
          "text": [
            "Features:  ['sepal length (cm)', 'sepal width (cm)', 'petal length (cm)', 'petal width (cm)']\n",
            "Labels:  ['setosa' 'versicolor' 'virginica']\n",
            "\n",
            "Data shape:  (150, 4)\n",
            "\n",
            "Traget shape:  (150,)\n",
            "\n",
            "Data type:  <class 'numpy.ndarray'>\n",
            "\n",
            "New Data shape:  (100, 4)\n",
            "\n",
            "New Traget shape:  (100,)\n"
          ]
        }
      ]
    },
    {
      "cell_type": "code",
      "source": [
        "#import the necessary module\n",
        "from sklearn.model_selection import train_test_split\n",
        "#split data set into train and test sets\n",
        "data_train, data_test, target_train, target_test = train_test_split(newdata,newtarget, test_size = 0.30, random_state = 5)\n",
        "import numpy as np\n",
        "gnb = GaussianNB()\n",
        "#Train the model using the training sets\n",
        "gnb.fit(data_train, target_train)\n",
        "#Predict the response for test dataset\n",
        "target_pred = gnb.predict(data_test)\n",
        "#Import scikit-learn metrics module for accuracy calculation\n",
        "from sklearn import metrics\n",
        "# Model Accuracy, how often is the classifier correct?\n",
        "print(\"Accuracy:\",metrics.accuracy_score(target_test, target_pred))\n",
        "Accuracy: 0.9\n",
        "#Import confusion_matrix from scikit-learn metrics module for confusion_matrix\n",
        "from sklearn.metrics import confusion_matrix\n",
        "confusion_matrix(target_test, target_pred)"
      ],
      "metadata": {
        "colab": {
          "base_uri": "https://localhost:8080/"
        },
        "id": "a9aoJHR4SSYa",
        "outputId": "3e96f5ff-85db-4d40-dc17-007719a9c45c"
      },
      "execution_count": 3,
      "outputs": [
        {
          "output_type": "stream",
          "name": "stdout",
          "text": [
            "Accuracy: 0.9\n"
          ]
        },
        {
          "output_type": "execute_result",
          "data": {
            "text/plain": [
              "array([[16,  1],\n",
              "       [ 2, 11]])"
            ]
          },
          "metadata": {},
          "execution_count": 3
        }
      ]
    },
    {
      "cell_type": "code",
      "source": [
        "from sklearn.metrics import precision_score\n",
        "from sklearn.metrics import recall_score\n",
        "precision = precision_score(target_test, target_pred)\n",
        "recall = recall_score(target_test, target_pred)\n",
        "print('precision: {}'.format(precision))\n",
        "print('recall: {}'.format(recall))"
      ],
      "metadata": {
        "colab": {
          "base_uri": "https://localhost:8080/"
        },
        "id": "npEm_pZ4SiZu",
        "outputId": "251bfe64-f0c9-4280-f918-c25218b8ad7a"
      },
      "execution_count": 4,
      "outputs": [
        {
          "output_type": "stream",
          "name": "stdout",
          "text": [
            "precision: 0.8888888888888888\n",
            "recall: 0.9411764705882353\n"
          ]
        }
      ]
    },
    {
      "cell_type": "code",
      "source": [],
      "metadata": {
        "id": "dm7Wf-IGSSbC"
      },
      "execution_count": 4,
      "outputs": []
    },
    {
      "cell_type": "code",
      "source": [
        "from sklearn import datasets\n",
        "from sklearn.naive_bayes import GaussianNB\n",
        "import pandas as pd\n",
        "from sklearn.preprocessing import LabelEncoder\n",
        "from google.colab import drive\n",
        "# take input dataset from drive\n",
        "drive.mount('/content/drive')\n",
        "data = pd.read_csv('/content/drive/MyDrive/sem6 myfolder/mldatasets/Dataset1.csv')\n",
        "print(data)\n",
        "\n",
        "x = data.iloc[:,:-1].values\n",
        "le = LabelEncoder()\n",
        "x[:,0] = le.fit_transform(x[:,0])\n",
        "x[:,1] = le.fit_transform(x[:,1])\n",
        "x[:,2] = le.fit_transform(x[:,2])\n",
        "x[:,3] = le.fit_transform(x[:,3])\n",
        "print(x)\n",
        "\n",
        "y = data.iloc[:,-1].values\n",
        "y = le.fit_transform(y)\n",
        "print(y)"
      ],
      "metadata": {
        "colab": {
          "base_uri": "https://localhost:8080/"
        },
        "id": "UuO_LzHHSSeD",
        "outputId": "2c31fdbc-30e4-448c-901d-82bdc1ed5e0f"
      },
      "execution_count": 5,
      "outputs": [
        {
          "output_type": "stream",
          "name": "stdout",
          "text": [
            "Drive already mounted at /content/drive; to attempt to forcibly remount, call drive.mount(\"/content/drive\", force_remount=True).\n",
            "   Outlook Temp Humidity Wind Play\n",
            "0        R    H   Normal    F    N\n",
            "1        R    H     High    T    N\n",
            "2        O    H   Normal    F    Y\n",
            "3        S    M   Normal    F    Y\n",
            "4        S    C   Normal    F    Y\n",
            "5        S    C      Low    T    N\n",
            "6        O    C   Normal    T    Y\n",
            "7        R    M   Normal    F    N\n",
            "8        R    C      Low    F    Y\n",
            "9        S    M     High    F    Y\n",
            "10       R    M     High    T    Y\n",
            "11       O    M      Low    T    Y\n",
            "12       O    H   Normal    F    Y\n",
            "13       S    M   Normal    T    N\n",
            "[[1 1 2 0]\n",
            " [1 1 0 1]\n",
            " [0 1 2 0]\n",
            " [2 2 2 0]\n",
            " [2 0 2 0]\n",
            " [2 0 1 1]\n",
            " [0 0 2 1]\n",
            " [1 2 2 0]\n",
            " [1 0 1 0]\n",
            " [2 2 0 0]\n",
            " [1 2 0 1]\n",
            " [0 2 1 1]\n",
            " [0 1 2 0]\n",
            " [2 2 2 1]]\n",
            "[0 0 1 1 1 0 1 0 1 1 1 1 1 0]\n"
          ]
        }
      ]
    },
    {
      "cell_type": "code",
      "source": [
        "from sklearn.model_selection import train_test_split\n",
        "import numpy as np\n",
        "from sklearn import metrics\n",
        "\n",
        "# using random state as last 2 digits of my permanent ID\n",
        "data_train, data_test, target_train, target_test = train_test_split(x,y,train_size=0.9,test_size=0.1, random_state=88)\n",
        "gnb = GaussianNB()\n",
        "gnb.fit(data_train, target_train)\n",
        "target_pred = gnb.predict(data_test)\n",
        "print(\"Accuracy: \",metrics.accuracy_score(target_test,target_pred))\n",
        "# Accuracy:  0.5\n",
        "target_pred = gnb.predict([[1,2,2,0],[2,0,0,1]])\n",
        "print(target_pred)"
      ],
      "metadata": {
        "colab": {
          "base_uri": "https://localhost:8080/"
        },
        "id": "aMxv_9rDSSgp",
        "outputId": "cbecbb87-46ba-4b8a-a5cc-4c3e124446e5"
      },
      "execution_count": 20,
      "outputs": [
        {
          "output_type": "stream",
          "name": "stdout",
          "text": [
            "Accuracy:  0.5\n",
            "[1 0]\n"
          ]
        }
      ]
    },
    {
      "cell_type": "code",
      "source": [
        "from sklearn import metrics\n",
        "from sklearn.metrics import precision_score\n",
        "from sklearn.metrics import recall_score\n",
        "precision = precision_score(target_test, target_pred)\n",
        "print('precision: {}'.format(precision))\n",
        "recall = recall_score(target_test, target_pred)\n",
        "print('recall: {}'.format(recall))"
      ],
      "metadata": {
        "colab": {
          "base_uri": "https://localhost:8080/"
        },
        "id": "jupWSczvSSi3",
        "outputId": "74b8f5b1-199f-459c-9f1e-1cd181f55077"
      },
      "execution_count": 7,
      "outputs": [
        {
          "output_type": "stream",
          "name": "stdout",
          "text": [
            "precision: 1.0\n",
            "recall: 1.0\n"
          ]
        }
      ]
    },
    {
      "cell_type": "code",
      "source": [],
      "metadata": {
        "id": "aW1AdXZgSSlh"
      },
      "execution_count": 7,
      "outputs": []
    },
    {
      "cell_type": "code",
      "source": [
        "# Getting breast cancer dataset\n",
        "data=datasets.load_breast_cancer()\n",
        "data.target\n",
        "data.keys()\n",
        "dt, data_test, tr, tt = train_test_split(iris.data, iris.target, test_size = 0.2, random_state = 0)\n",
        "from sklearn import metrics\n",
        "gnb = GaussianNB()\n",
        "gnb.fit(dt, tr)\n",
        "target_pred = gnb.predict(data_test)\n",
        "accuracy = metrics.accuracy_score(tt, target_pred)\n",
        "precision = metrics.precision_score(tt, target_pred, average=None)\n",
        "recall = metrics.recall_score(tt, target_pred, average=None)\n",
        "print('Accuracy: {}'.format(accuracy))\n"
      ],
      "metadata": {
        "colab": {
          "base_uri": "https://localhost:8080/"
        },
        "id": "c3_dYb6QSSoQ",
        "outputId": "e7214215-34e1-45b5-f90e-2c831cec5a54"
      },
      "execution_count": 24,
      "outputs": [
        {
          "output_type": "stream",
          "name": "stdout",
          "text": [
            "Accuracy: 0.9666666666666667\n"
          ]
        }
      ]
    },
    {
      "cell_type": "code",
      "source": [
        "print('recall: {}'.format(recall))\n",
        "print('precision: {}'.format(precision))"
      ],
      "metadata": {
        "id": "3QzaDIheSSr2",
        "colab": {
          "base_uri": "https://localhost:8080/"
        },
        "outputId": "b15ea1c8-7328-4cb6-876a-1f6c020dcff4"
      },
      "execution_count": 25,
      "outputs": [
        {
          "output_type": "stream",
          "name": "stdout",
          "text": [
            "recall: [1.         1.         0.83333333]\n",
            "precision: [1.         0.92857143 1.        ]\n"
          ]
        }
      ]
    }
  ]
}