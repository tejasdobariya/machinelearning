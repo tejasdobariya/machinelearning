{
  "cells": [
    {
      "cell_type": "code",
      "execution_count": 8,
      "metadata": {
        "colab": {
          "base_uri": "https://localhost:8080/"
        },
        "id": "cKfboSx4fHAH",
        "outputId": "3cb74395-2aef-4ff0-cf13-077a145a9410"
      },
      "outputs": [
        {
          "output_type": "stream",
          "name": "stdout",
          "text": [
            "[[1007.]\n",
            " [2007.]\n",
            " [1207.]\n",
            " [ 997.]\n",
            " [3007.]]\n"
          ]
        }
      ],
      "source": [
        "import numpy as np\n",
        "import torch\n",
        "import torch\n",
        "from torch.utils.data import TensorDataset,DataLoader\n",
        "\n",
        "input = np.array([[73, 67, 43],\n",
        "[91, 88, 64],\n",
        "[87, 134, 58],\n",
        "[102, 43, 37],\n",
        "[69, 96, 70]], dtype='float32')\n",
        "\n",
        "target = np.array([[56],\n",
        "[81],\n",
        "[119],\n",
        "[22],\n",
        "[103]], dtype='float32')\n",
        "\n",
        "initial_target=np.array([[100],\n",
        "[100],\n",
        "[80],\n",
        "[90],\n",
        "[100]], dtype='float32')\n",
        "\n",
        "weight = np.array([[10],\n",
        "[20],\n",
        "[15],\n",
        "[11],\n",
        "[30]], dtype='float32')\n",
        "\n",
        "bias = np.array([[7],[7],[7],[7],[7]],dtype='float32')\n",
        "\n",
        "prediction = (initial_target*weight) + bias\n",
        "print(prediction)"
      ]
    },
    {
      "cell_type": "code",
      "source": [
        "inputs = torch.from_numpy(input)\n",
        "targets = torch.from_numpy(target)\n",
        "print(inputs)\n",
        "print(targets)\n",
        "dataset = TensorDataset(inputs,targets)\n",
        "train_loader = DataLoader(dataset, batch_size=4, shuffle=True)\n",
        "weights= torch.randn(1,3, requires_grad=True)\n",
        "bs = torch.randn(1, requires_grad=True)\n",
        "print(weights)\n",
        "print(bs)"
      ],
      "metadata": {
        "colab": {
          "base_uri": "https://localhost:8080/"
        },
        "id": "bs-RMBI4cmTt",
        "outputId": "882703eb-df85-4ab2-f65e-b77b8d358b5a"
      },
      "execution_count": 58,
      "outputs": [
        {
          "output_type": "stream",
          "name": "stdout",
          "text": [
            "tensor([[ 73.,  67.,  43.],\n",
            "        [ 91.,  88.,  64.],\n",
            "        [ 87., 134.,  58.],\n",
            "        [102.,  43.,  37.],\n",
            "        [ 69.,  96.,  70.]])\n",
            "tensor([[ 56.],\n",
            "        [ 81.],\n",
            "        [119.],\n",
            "        [ 22.],\n",
            "        [103.]])\n",
            "tensor([[-1.5109, -0.6964,  0.2457]], requires_grad=True)\n",
            "tensor([0.8181], requires_grad=True)\n"
          ]
        }
      ]
    },
    {
      "cell_type": "code",
      "source": [
        "def model(X):\n",
        "  return X @ weights.t() + bs\n",
        "\n",
        "for x,y in train_loader:\n",
        "    preds = model(x)\n",
        "    print(\"Prediction :\\n\",preds)\n",
        "    print(\"\\nActual Value:\\n\",y)\n",
        "    break\n",
        "\n",
        "def mse_loss(predictions, targets):\n",
        "  difference = predictions - targets\n",
        "  return torch.sum(difference * difference)/ difference.numel() \n",
        "for x,y in train_loader:\n",
        "  preds=model(x)\n",
        "  print(\"Prediction :\\n\", preds)\n",
        "  print(\"\\nActual Value:\\n\",y)\n",
        "  print(\"\\nLoss : \",mse_loss(preds,y))\n",
        "  break"
      ],
      "metadata": {
        "colab": {
          "base_uri": "https://localhost:8080/"
        },
        "id": "RD1Z6bTFcyH5",
        "outputId": "2be92127-6063-4c99-ad70-f844f4b4052d"
      },
      "execution_count": 59,
      "outputs": [
        {
          "output_type": "stream",
          "name": "stdout",
          "text": [
            "Prediction :\n",
            " tensor([[-145.5705],\n",
            "        [-182.2316],\n",
            "        [-174.1467],\n",
            "        [-153.0894]], grad_fn=<AddBackward0>)\n",
            "\n",
            "Actual Value:\n",
            " tensor([[ 56.],\n",
            "        [ 81.],\n",
            "        [ 22.],\n",
            "        [103.]])\n",
            "Prediction :\n",
            " tensor([[-182.2316],\n",
            "        [-209.6958],\n",
            "        [-174.1467],\n",
            "        [-145.5705]], grad_fn=<AddBackward0>)\n",
            "\n",
            "Actual Value:\n",
            " tensor([[ 81.],\n",
            "        [119.],\n",
            "        [ 22.],\n",
            "        [ 56.]])\n",
            "\n",
            "Loss :  tensor(64109.0078, grad_fn=<DivBackward0>)\n"
          ]
        }
      ]
    },
    {
      "cell_type": "code",
      "source": [
        "epochs = 100\n",
        "for i in range(epochs):\n",
        "    for x,y in train_loader:\n",
        "        preds = model(x)\n",
        "        loss = mse_loss(preds, y)\n",
        "        loss.backward()\n",
        "        with torch.no_grad():\n",
        "            weights -= weights.grad *1e-5\n",
        "            bs -= bs.grad * 1e-5\n",
        "            weights.grad.zero_()\n",
        "            bs.grad.zero_()\n",
        "\n",
        "for x,y in train_loader:\n",
        "  preds= model(x)\n",
        "  print(\"\\Prediction :\\n\",preds)\n",
        "  print(\"\\nActual value:\\n\",y)\n",
        "  break"
      ],
      "metadata": {
        "id": "cWa4WzZJeP8Y",
        "colab": {
          "base_uri": "https://localhost:8080/"
        },
        "outputId": "91120cee-afc6-4f2a-b9aa-127ffa6f82ce"
      },
      "execution_count": 55,
      "outputs": [
        {
          "output_type": "stream",
          "name": "stdout",
          "text": [
            "\\Prediction :\n",
            " tensor([[102.8818],\n",
            "        [118.7187],\n",
            "        [ 21.4160],\n",
            "        [ 57.6037]], grad_fn=<AddBackward0>)\n",
            "\n",
            "Actual value:\n",
            " tensor([[103.],\n",
            "        [119.],\n",
            "        [ 22.],\n",
            "        [ 56.]])\n"
          ]
        }
      ]
    },
    {
      "cell_type": "code",
      "source": [
        "print(weights)\n",
        "print(bs)\n",
        "from sklearn.linear_model import LinearRegression\n",
        "model = LinearRegression()\n",
        "model.fit(inputs, targets)\n",
        "test_input = np.array([[70, 34, 45]])\n",
        "y_pred = model.predict(test_input)\n",
        "print(\"Prediction: \", y_pred)\n",
        "MSE = mse_loss(preds,y)\n",
        "print(\"MSE: \",MSE)\n",
        "print(\"Weights: \",weights)\n",
        "print(\"Bias: \",bs)"
      ],
      "metadata": {
        "id": "2XLepVbweiRe",
        "colab": {
          "base_uri": "https://localhost:8080/"
        },
        "outputId": "4f93538e-f033-48ee-af2e-e4d712381ee4"
      },
      "execution_count": 57,
      "outputs": [
        {
          "output_type": "stream",
          "name": "stdout",
          "text": [
            "tensor([[-0.4070,  0.8364,  0.7183]], requires_grad=True)\n",
            "tensor([0.3918], requires_grad=True)\n",
            "Prediction:  [[31.47395247]]\n",
            "MSE:  tensor(0.7515, grad_fn=<DivBackward0>)\n",
            "Weights:  tensor([[-0.4070,  0.8364,  0.7183]], requires_grad=True)\n",
            "Bias:  tensor([0.3918], requires_grad=True)\n"
          ]
        }
      ]
    },
    {
      "cell_type": "code",
      "source": [
        "def mse_loss(predictions, targets):\n",
        "  difference = predictions - targets\n",
        "  return torch.sum(difference * difference)/ difference.numel()\n",
        "for x,y in train_loader:\n",
        "  preds=model(x)\n",
        "  print(\"Prediction is :\\n\", preds)\n",
        "  print(\"\\nActual targets is :\\n\",y)\n",
        "  print(\"\\nLoss is: \",mse_loss(preds,y))\n",
        "  break\n",
        "\n",
        "epochs = 1000\n",
        "for i in range(epochs):\n",
        "    for x,y in train_loader:\n",
        "        preds = model(x)\n",
        "        loss = mse_loss(preds, y)\n",
        "        loss.backward()\n",
        "        with torch.no_grad():\n",
        "            weights -= weights.grad *0.1\n",
        "            bs -= bs.grad * 0.1\n",
        "            weights.grad.zero_()\n",
        "            bs.grad.zero_()\n",
        "\n",
        "for x,y in train_loader:\n",
        "  preds= model(x)\n",
        "  print(\"\\nFinal Prediction is :\\n\",preds)\n",
        "  print(\"\\nActual targets are :\\n\",y)\n",
        "  break\n",
        "MSE = mse_loss(preds,y)\n",
        "print(\"MSE: \",MSE)\n",
        "\n",
        "print(\"Weights: \",weights)\n",
        "print(\"Bias: \",bs)"
      ],
      "metadata": {
        "colab": {
          "base_uri": "https://localhost:8080/"
        },
        "id": "zrx4oTT12hMI",
        "outputId": "11368ee0-5b0c-421b-f7a4-e9c56e0746e9"
      },
      "execution_count": 26,
      "outputs": [
        {
          "output_type": "stream",
          "name": "stdout",
          "text": [
            "Prediction is :\n",
            " tensor([[nan],\n",
            "        [nan],\n",
            "        [nan],\n",
            "        [nan]], grad_fn=<AddBackward0>)\n",
            "\n",
            "Actual targets is :\n",
            " tensor([[ 81.],\n",
            "        [103.],\n",
            "        [119.],\n",
            "        [ 56.]])\n",
            "\n",
            "Loss is:  tensor(nan, grad_fn=<DivBackward0>)\n",
            "\n",
            "Final Prediction is :\n",
            " tensor([[nan],\n",
            "        [nan],\n",
            "        [nan],\n",
            "        [nan]], grad_fn=<AddBackward0>)\n",
            "\n",
            "Actual targets are :\n",
            " tensor([[ 22.],\n",
            "        [103.],\n",
            "        [119.],\n",
            "        [ 56.]])\n",
            "MSE:  tensor(nan, grad_fn=<DivBackward0>)\n",
            "Weights:  tensor([[nan, nan, nan]], requires_grad=True)\n",
            "Bias:  tensor([nan], requires_grad=True)\n"
          ]
        }
      ]
    },
    {
      "cell_type": "code",
      "source": [
        "import torch\n",
        "from torch.utils.data import TensorDataset,DataLoader\n",
        "from sklearn.model_selection import train_test_split\n",
        "input = np.array([[73, 67, 43],\n",
        "[91, 88, 64],\n",
        "[87, 134, 58],\n",
        "[102, 43, 37],\n",
        "[69, 96, 70]], dtype='float32')\n",
        "\n",
        "target = np.array([[56],\n",
        "[81],\n",
        "[119],\n",
        "[22],\n",
        "[103]], dtype='float32')\n",
        "\n",
        "initial_target=np.array([[100],\n",
        "[100],\n",
        "[80],\n",
        "[90],\n",
        "[100]], dtype='float32')\n",
        "\n",
        "weight = np.array([[10],\n",
        "[20],\n",
        "[15],\n",
        "[11],\n",
        "[30]], dtype='float32')\n",
        "\n",
        "bias = np.array([[7],[7],[7],[7],[7]],dtype='float32')\n",
        "prediction = (initial_target*weight) + bias\n",
        "loss_arr=[];\n",
        "inputs = torch.from_numpy(input)\n",
        "targets = torch.from_numpy(target)\n",
        "X_train, X_val, y_train, y_val = train_test_split(inputs, targets, random_state=35)\n",
        "dataset = TensorDataset(inputs,targets)\n",
        "train_loader = DataLoader(dataset, batch_size=4, shuffle=True)\n",
        "weights= torch.randn(1,3, requires_grad=True)\n",
        "bs = torch.randn(1, requires_grad=True)\n",
        "print(weights)\n",
        "print(bs)\n",
        "\n",
        "def model(X):\n",
        "  return X @ weights.t() + bs \n",
        "for x,y in train_loader:\n",
        "    preds = model(x)\n",
        "    print(\"Prediction is :\\n\",preds)\n",
        "    print(\"\\nActual targets is :\\n\",y)\n",
        "    break\n",
        "\n",
        "def mse_loss(predictions, targets):\n",
        "  difference = predictions - targets\n",
        "  return torch.sum(difference * difference)/ difference.numel() \n",
        "\n",
        "for x,y in train_loader:\n",
        "  preds=model(x)\n",
        "  print(\"Prediction is :\\n\", preds)\n",
        "  print(\"\\nActual targets is :\\n\",y)\n",
        "  print(\"\\nLoss is: \",mse_loss(preds,y))\n",
        "  break\n",
        "epochs = 100\n",
        "for i in range(epochs):\n",
        "    for x,y in train_loader:\n",
        "        preds = model(x)\n",
        "        loss = mse_loss(preds, y)\n",
        "        loss_arr+=loss\n",
        "        loss.backward()\n",
        "        with torch.no_grad():\n",
        "            weights -= weights.grad *1e-7\n",
        "            bs -= bs.grad * 1e-7\n",
        "            weights.grad.zero_()\n",
        "            bs.grad.zero_()\n",
        "\n",
        "for x,y in train_loader:\n",
        "  preds= model(x)\n",
        "  print(\"\\nFinal Prediction is :\\n\",preds)\n",
        "  print(\"\\nActual targets are :\\n\",y)\n",
        "  break"
      ],
      "metadata": {
        "colab": {
          "base_uri": "https://localhost:8080/",
          "height": 807
        },
        "id": "6Y8IMuVk2hPD",
        "outputId": "2fde7d6b-dc6d-4468-9f09-119a3e34a7c1"
      },
      "execution_count": 36,
      "outputs": [
        {
          "output_type": "stream",
          "name": "stdout",
          "text": [
            "tensor([[1.1219, 0.5023, 0.1569]], requires_grad=True)\n",
            "tensor([1.0111], requires_grad=True)\n",
            "Prediction is :\n",
            " tensor([[157.3465],\n",
            "        [175.0217],\n",
            "        [142.8495],\n",
            "        [137.6237]], grad_fn=<AddBackward0>)\n",
            "\n",
            "Actual targets is :\n",
            " tensor([[ 81.],\n",
            "        [119.],\n",
            "        [ 22.],\n",
            "        [103.]])\n",
            "Prediction is :\n",
            " tensor([[137.6237],\n",
            "        [123.3096],\n",
            "        [175.0217],\n",
            "        [157.3465]], grad_fn=<AddBackward0>)\n",
            "\n",
            "Actual targets is :\n",
            " tensor([[103.],\n",
            "        [ 56.],\n",
            "        [119.],\n",
            "        [ 81.]])\n",
            "\n",
            "Loss is:  tensor(3674.1479, grad_fn=<DivBackward0>)\n"
          ]
        },
        {
          "output_type": "error",
          "ename": "TypeError",
          "evalue": "ignored",
          "traceback": [
            "\u001b[0;31m---------------------------------------------------------------------------\u001b[0m",
            "\u001b[0;31mTypeError\u001b[0m                                 Traceback (most recent call last)",
            "\u001b[0;32m<ipython-input-36-f1688107e627>\u001b[0m in \u001b[0;36m<module>\u001b[0;34m\u001b[0m\n\u001b[1;32m     62\u001b[0m         \u001b[0mpreds\u001b[0m \u001b[0;34m=\u001b[0m \u001b[0mmodel\u001b[0m\u001b[0;34m(\u001b[0m\u001b[0mx\u001b[0m\u001b[0;34m)\u001b[0m\u001b[0;34m\u001b[0m\u001b[0;34m\u001b[0m\u001b[0m\n\u001b[1;32m     63\u001b[0m         \u001b[0mloss\u001b[0m \u001b[0;34m=\u001b[0m \u001b[0mmse_loss\u001b[0m\u001b[0;34m(\u001b[0m\u001b[0mpreds\u001b[0m\u001b[0;34m,\u001b[0m \u001b[0my\u001b[0m\u001b[0;34m)\u001b[0m\u001b[0;34m\u001b[0m\u001b[0;34m\u001b[0m\u001b[0m\n\u001b[0;32m---> 64\u001b[0;31m         \u001b[0mloss_arr\u001b[0m\u001b[0;34m+=\u001b[0m\u001b[0mloss\u001b[0m\u001b[0;34m\u001b[0m\u001b[0;34m\u001b[0m\u001b[0m\n\u001b[0m\u001b[1;32m     65\u001b[0m         \u001b[0mloss\u001b[0m\u001b[0;34m.\u001b[0m\u001b[0mbackward\u001b[0m\u001b[0;34m(\u001b[0m\u001b[0;34m)\u001b[0m\u001b[0;34m\u001b[0m\u001b[0;34m\u001b[0m\u001b[0m\n\u001b[1;32m     66\u001b[0m         \u001b[0;32mwith\u001b[0m \u001b[0mtorch\u001b[0m\u001b[0;34m.\u001b[0m\u001b[0mno_grad\u001b[0m\u001b[0;34m(\u001b[0m\u001b[0;34m)\u001b[0m\u001b[0;34m:\u001b[0m\u001b[0;34m\u001b[0m\u001b[0;34m\u001b[0m\u001b[0m\n",
            "\u001b[0;32m/usr/local/lib/python3.8/dist-packages/torch/_tensor.py\u001b[0m in \u001b[0;36m__iter__\u001b[0;34m(self)\u001b[0m\n\u001b[1;32m    914\u001b[0m         \u001b[0;31m# See gh-54457\u001b[0m\u001b[0;34m\u001b[0m\u001b[0;34m\u001b[0m\u001b[0;34m\u001b[0m\u001b[0m\n\u001b[1;32m    915\u001b[0m         \u001b[0;32mif\u001b[0m \u001b[0mself\u001b[0m\u001b[0;34m.\u001b[0m\u001b[0mdim\u001b[0m\u001b[0;34m(\u001b[0m\u001b[0;34m)\u001b[0m \u001b[0;34m==\u001b[0m \u001b[0;36m0\u001b[0m\u001b[0;34m:\u001b[0m\u001b[0;34m\u001b[0m\u001b[0;34m\u001b[0m\u001b[0m\n\u001b[0;32m--> 916\u001b[0;31m             \u001b[0;32mraise\u001b[0m \u001b[0mTypeError\u001b[0m\u001b[0;34m(\u001b[0m\u001b[0;34m\"iteration over a 0-d tensor\"\u001b[0m\u001b[0;34m)\u001b[0m\u001b[0;34m\u001b[0m\u001b[0;34m\u001b[0m\u001b[0m\n\u001b[0m\u001b[1;32m    917\u001b[0m         \u001b[0;32mif\u001b[0m \u001b[0mtorch\u001b[0m\u001b[0;34m.\u001b[0m\u001b[0m_C\u001b[0m\u001b[0;34m.\u001b[0m\u001b[0m_get_tracing_state\u001b[0m\u001b[0;34m(\u001b[0m\u001b[0;34m)\u001b[0m\u001b[0;34m:\u001b[0m\u001b[0;34m\u001b[0m\u001b[0;34m\u001b[0m\u001b[0m\n\u001b[1;32m    918\u001b[0m             warnings.warn(\n",
            "\u001b[0;31mTypeError\u001b[0m: iteration over a 0-d tensor"
          ]
        }
      ]
    },
    {
      "cell_type": "code",
      "source": [
        "MSE = mse_loss(preds,y)\n",
        "print(\"MSE: \",MSE)\n",
        "print(\"Weights: \",weights)\n",
        "print(\"Bias: \",bs)"
      ],
      "metadata": {
        "colab": {
          "base_uri": "https://localhost:8080/"
        },
        "id": "hWuK0vyo2hSG",
        "outputId": "7b1a12c8-b717-420d-80ca-308f80e0cccf"
      },
      "execution_count": 35,
      "outputs": [
        {
          "output_type": "stream",
          "name": "stdout",
          "text": [
            "MSE:  tensor(48969.5078, grad_fn=<DivBackward0>)\n",
            "Weights:  tensor([[-1.3500, -0.5612,  0.3562]], requires_grad=True)\n",
            "Bias:  tensor([-0.0834], requires_grad=True)\n"
          ]
        }
      ]
    },
    {
      "cell_type": "code",
      "source": [],
      "metadata": {
        "id": "cdIfYu3J2hU_"
      },
      "execution_count": null,
      "outputs": []
    },
    {
      "cell_type": "code",
      "source": [],
      "metadata": {
        "id": "3iDoyl2N2hYl"
      },
      "execution_count": null,
      "outputs": []
    }
  ],
  "metadata": {
    "colab": {
      "provenance": []
    },
    "kernelspec": {
      "display_name": "Python 3",
      "name": "python3"
    },
    "language_info": {
      "name": "python"
    }
  },
  "nbformat": 4,
  "nbformat_minor": 0
}