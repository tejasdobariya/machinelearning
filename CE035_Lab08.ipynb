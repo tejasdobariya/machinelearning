{
  "nbformat": 4,
  "nbformat_minor": 0,
  "metadata": {
    "colab": {
      "provenance": []
    },
    "kernelspec": {
      "name": "python3",
      "display_name": "Python 3"
    },
    "language_info": {
      "name": "python"
    }
  },
  "cells": [
    {
      "cell_type": "code",
      "execution_count": 2,
      "metadata": {
        "id": "TLJpGMuOt8Qw"
      },
      "outputs": [],
      "source": [
        "import pandas as pd\n",
        "import numpy as np\n",
        "from sklearn.metrics import accuracy_score\n",
        "import sklearn\n",
        "from sklearn.datasets import load_breast_cancer\n",
        "import io\n",
        "from sklearn import preprocessing\n",
        "from sklearn.model_selection import train_test_split"
      ]
    },
    {
      "cell_type": "code",
      "source": [
        "data = load_breast_cancer()\n",
        "data.target_names, data.feature_names\n",
        "X = preprocessing.MinMaxScaler().fit_transform(data.data)\n",
        "y = data.target\n",
        "X_train, X_test, y_train, y_test = train_test_split(X,y,train_size = 0.85)\n",
        "\n",
        "X_train_1, X_test_1, y_train_1, y_test_1 = train_test_split(X_train, y_train, train_size=0.75)\n",
        "X_train_2, X_test_2, y_train_2, y_test_2 = train_test_split(X_train, y_train, train_size=0.75)\n",
        "X_train_3, X_test_3, y_train_3, y_test_3 = train_test_split(X_train, y_train, train_size=0.75)"
      ],
      "metadata": {
        "id": "-zVFAw6W3lkU"
      },
      "execution_count": 3,
      "outputs": []
    },
    {
      "cell_type": "code",
      "source": [
        "from sklearn import tree\n",
        "from sklearn import metrics\n",
        "model_1 = tree.DecisionTreeClassifier(max_depth=1)\n",
        "model_1 = model_1.fit(X_train_1, y_train_1)\n",
        "y_pred_1 = model_1.predict(X_test_1)\n",
        "print(\"A \",metrics.accuracy_score(y_test_1, y_pred_1))\n",
        "print(\"P \",metrics.precision_score(y_test_1,y_pred_1))\n",
        "print(\"R \",metrics.recall_score(y_test_1,y_pred_1))\n",
        "print(\"F1 \",metrics.f1_score(y_test_1,y_pred_1))"
      ],
      "metadata": {
        "colab": {
          "base_uri": "https://localhost:8080/"
        },
        "id": "UMSpj1fEtxeV",
        "outputId": "1301f9f9-7574-448a-f61e-d9731c8f6373"
      },
      "execution_count": 4,
      "outputs": [
        {
          "output_type": "stream",
          "name": "stdout",
          "text": [
            "A  0.9421487603305785\n",
            "P  0.9431818181818182\n",
            "R  0.9764705882352941\n",
            "F1  0.9595375722543352\n"
          ]
        }
      ]
    },
    {
      "cell_type": "code",
      "source": [
        "from sklearn.naive_bayes import GaussianNB\n",
        "model_2 = GaussianNB().fit(X_train_2, y_train_2)\n",
        "y_pred_2 = model_2.predict(X_test_2)\n",
        "print(\"A \",metrics.accuracy_score(y_test_2, y_pred_2))\n",
        "print(\"P \",metrics.precision_score(y_test_2,y_pred_2))\n",
        "print(\"R \",metrics.recall_score(y_test_2,y_pred_2))\n",
        "print(\"F1 \",metrics.f1_score(y_test_2,y_pred_2))"
      ],
      "metadata": {
        "colab": {
          "base_uri": "https://localhost:8080/"
        },
        "id": "R7sLPLuJtxhZ",
        "outputId": "2b676818-beab-477f-d347-9e7969a934d5"
      },
      "execution_count": 5,
      "outputs": [
        {
          "output_type": "stream",
          "name": "stdout",
          "text": [
            "A  0.9338842975206612\n",
            "P  0.9342105263157895\n",
            "R  0.9594594594594594\n",
            "F1  0.9466666666666667\n"
          ]
        }
      ]
    },
    {
      "cell_type": "code",
      "source": [
        "from sklearn.naive_bayes import MultinomialNB\n",
        "model_3 = MultinomialNB().fit(X_train_3, y_train_3)\n",
        "y_pred_3 = model_3.predict(X_test_3)\n",
        "print(\"A \",metrics.accuracy_score(y_test_3, y_pred_3))\n",
        "print(\"P \",metrics.precision_score(y_test_3,y_pred_3))\n",
        "print(\"R \",metrics.recall_score(y_test_3,y_pred_3))\n",
        "print(\"F1 \",metrics.f1_score(y_test_3,y_pred_3))"
      ],
      "metadata": {
        "colab": {
          "base_uri": "https://localhost:8080/"
        },
        "id": "yUENQPnttxkj",
        "outputId": "8a0dbe03-be84-42b5-cb34-6c74282bece7"
      },
      "execution_count": 6,
      "outputs": [
        {
          "output_type": "stream",
          "name": "stdout",
          "text": [
            "A  0.859504132231405\n",
            "P  0.8247422680412371\n",
            "R  1.0\n",
            "F1  0.903954802259887\n"
          ]
        }
      ]
    },
    {
      "cell_type": "code",
      "source": [
        "from sklearn.linear_model import LogisticRegression\n",
        "y_train_final = []\n",
        "X_train_final = []\n",
        "y_train_final_1 = model_1.predict(X_train)\n",
        "y_train_final_2 = model_2.predict(X_train)\n",
        "y_train_final_3 = model_3.predict(X_train)\n",
        "\n",
        "for i in range(len(y_train_final_1)):\n",
        "  X_train_final.append([y_train_final_1[i], y_train_final_2[i], y_train_final_3[i]])\n",
        "  y_train_final.append(y_train[i])\n",
        "model_final = LogisticRegression().fit(X_train_final, y_train_final)\n",
        "X_test_final = []\n",
        "y_test_final = []\n",
        "y_test_final_1 = model_1.predict(X_test)\n",
        "y_test_final_2 = model_2.predict(X_test)\n",
        "y_test_final_3 = model_3.predict(X_test)\n",
        "\n",
        "for i in range(len(y_test_final_1)):\n",
        "  X_test_final.append([y_test_final_1[i], y_test_final_2[i], y_test_final_3[i]])\n",
        "  y_test_final.append(y_test[i])\n",
        "\n",
        "y_pred_final = model_final.predict(X_test_final)\n",
        "print(\"A \",metrics.accuracy_score(y_test_final, y_pred_final))\n",
        "print(\"P\",metrics.precision_score(y_test_final,y_pred_final))\n",
        "print(\"R \",metrics.recall_score(y_test_final,y_pred_final))\n",
        "print(\"F1 \",metrics.f1_score(y_test_final,y_pred_final))"
      ],
      "metadata": {
        "colab": {
          "base_uri": "https://localhost:8080/"
        },
        "id": "-ACPF-ZZugyr",
        "outputId": "26142c72-b98e-4708-e09b-0b3f6f2e1fef"
      },
      "execution_count": 7,
      "outputs": [
        {
          "output_type": "stream",
          "name": "stdout",
          "text": [
            "A  0.9186046511627907\n",
            "P 0.9534883720930233\n",
            "R  0.8913043478260869\n",
            "F1  0.9213483146067417\n"
          ]
        }
      ]
    },
    {
      "cell_type": "code",
      "source": [
        "# stacking\n",
        "from sklearn.ensemble import StackingClassifier\n",
        "from sklearn.ensemble import BaggingClassifier\n",
        "estimators = [('gnb', GaussianNB()),('dt', tree.DecisionTreeClassifier(max_depth=1)),('mnb', MultinomialNB())]\n",
        "model_stacked = StackingClassifier(estimators=estimators).fit(X_train, y_train)\n",
        "y_pred_stacked = model_stacked.predict(X_test)\n",
        "print(\"A \",metrics.accuracy_score(y_test, y_pred_stacked))\n",
        "print(\"P \",metrics.precision_score(y_test,y_pred_stacked))\n",
        "print(\"R \",metrics.recall_score(y_test,y_pred_stacked))\n",
        "print(\"F1 \",metrics.f1_score(y_test,y_pred_stacked))\n",
        "\n",
        "\n",
        "model_bagged = BaggingClassifier(max_features = 0.67).fit(X_train, y_train)\n",
        "y_pred_bagged = model_bagged.predict(X_test)\n",
        "print(\"A \",metrics.accuracy_score(y_test, y_pred_bagged))\n",
        "print(\"P \",metrics.precision_score(y_test,y_pred_bagged))\n",
        "print(\"R \",metrics.recall_score(y_test,y_pred_bagged))\n",
        "print(\"F1 \",metrics.f1_score(y_test,y_pred_bagged))"
      ],
      "metadata": {
        "colab": {
          "base_uri": "https://localhost:8080/"
        },
        "id": "lSsr03Teug1d",
        "outputId": "29eed42e-73b9-4a2d-a9c5-362d7dbda6a5"
      },
      "execution_count": 8,
      "outputs": [
        {
          "output_type": "stream",
          "name": "stdout",
          "text": [
            "A  0.9302325581395349\n",
            "P  0.9347826086956522\n",
            "R  0.9347826086956522\n",
            "F1  0.9347826086956522\n",
            "A  0.9651162790697675\n",
            "P  0.9777777777777777\n",
            "R  0.9565217391304348\n",
            "F1  0.967032967032967\n"
          ]
        }
      ]
    },
    {
      "cell_type": "code",
      "source": [
        "from sklearn.ensemble import RandomForestClassifier\n",
        "from sklearn.ensemble import AdaBoostClassifier\n",
        "model_random_forest = RandomForestClassifier(n_estimators=100).fit(X_train, y_train)\n",
        "y_pred_random_forest = model_random_forest.predict(X_test)\n",
        "print(\"A \",metrics.accuracy_score(y_test, y_pred_random_forest))\n",
        "print(\"P \",metrics.precision_score(y_test,y_pred_random_forest))\n",
        "print(\"R \",metrics.recall_score(y_test,y_pred_random_forest))\n",
        "print(\"F1 \",metrics.f1_score(y_test,y_pred_random_forest))\n",
        "\n",
        "\n",
        "model_adaboost = AdaBoostClassifier(n_estimators=100, learning_rate=1).fit(X_train, y_train)\n",
        "y_pred_adaboost = model_adaboost.predict(X_test)\n",
        "print(\"A \",metrics.accuracy_score(y_test, y_pred_adaboost))\n",
        "print(\"P \",metrics.precision_score(y_test,y_pred_adaboost))\n",
        "print(\"R \",metrics.recall_score(y_test,y_pred_adaboost))\n",
        "print(\"F1 \",metrics.f1_score(y_test,y_pred_adaboost))"
      ],
      "metadata": {
        "id": "IXPoYTGYug4f",
        "colab": {
          "base_uri": "https://localhost:8080/"
        },
        "outputId": "f80ee8e0-4a37-4fc2-898f-446b7eee0888"
      },
      "execution_count": 9,
      "outputs": [
        {
          "output_type": "stream",
          "name": "stdout",
          "text": [
            "A  0.9767441860465116\n",
            "P  0.9782608695652174\n",
            "R  0.9782608695652174\n",
            "F1  0.9782608695652174\n",
            "A  0.9883720930232558\n",
            "P  1.0\n",
            "R  0.9782608695652174\n",
            "F1  0.989010989010989\n"
          ]
        }
      ]
    },
    {
      "cell_type": "code",
      "source": [],
      "metadata": {
        "id": "s0Xk0oCnwVmG"
      },
      "execution_count": 9,
      "outputs": []
    },
    {
      "cell_type": "code",
      "source": [
        "from google.colab import drive\n",
        "drive.mount('/content/drive')\n",
        "datasets = pd.read_csv('/content/drive/MyDrive/sem6 myfolder/mldatasets/Contrete.csv')"
      ],
      "metadata": {
        "colab": {
          "base_uri": "https://localhost:8080/"
        },
        "id": "LYRUWAw5wV2h",
        "outputId": "f24a33bb-c167-413e-8c20-71275e7abf91"
      },
      "execution_count": 10,
      "outputs": [
        {
          "output_type": "stream",
          "name": "stdout",
          "text": [
            "Drive already mounted at /content/drive; to attempt to forcibly remount, call drive.mount(\"/content/drive\", force_remount=True).\n"
          ]
        }
      ]
    },
    {
      "cell_type": "code",
      "source": [
        "X = datasets.iloc[:, :-1].values\n",
        "y = datasets.iloc[:, -1].values\n",
        "print(\"\\n\\nInput : \\n\", X)\n",
        "print(\"\\n\\nOutput: \\n\", y)\n",
        "from sklearn.model_selection import train_test_split\n",
        "X_train, X_test, y_train, y_test = train_test_split(datasets, y, test_size = 0.25, random_state = 97)"
      ],
      "metadata": {
        "colab": {
          "base_uri": "https://localhost:8080/"
        },
        "id": "a5Lhg1iQwrcX",
        "outputId": "7fc96bcc-a4ce-4e39-cb3c-0ee4e185d326"
      },
      "execution_count": 12,
      "outputs": [
        {
          "output_type": "stream",
          "name": "stdout",
          "text": [
            "\n",
            "\n",
            "Input : \n",
            " [[ 540.     0.     0.  ... 1040.   676.    28. ]\n",
            " [ 540.     0.     0.  ... 1055.   676.    28. ]\n",
            " [ 332.5  142.5    0.  ...  932.   594.   270. ]\n",
            " ...\n",
            " [ 148.5  139.4  108.6 ...  892.4  780.    28. ]\n",
            " [ 159.1  186.7    0.  ...  989.6  788.9   28. ]\n",
            " [ 260.9  100.5   78.3 ...  864.5  761.5   28. ]]\n",
            "\n",
            "\n",
            "Output: \n",
            " [79.99 61.89 40.27 ... 23.7  32.77 32.4 ]\n"
          ]
        }
      ]
    },
    {
      "cell_type": "code",
      "source": [
        "from sklearn.ensemble import AdaBoostRegressor\n",
        "from sklearn.tree import DecisionTreeRegressor\n",
        "DTR=DecisionTreeRegressor(max_depth=1)\n",
        "RegModel = AdaBoostRegressor(n_estimators=50, base_estimator=DTR ,learning_rate=1)\n",
        "AB=RegModel.fit(X_train,y_train)\n",
        "y_pred=AB.predict(X_test)\n",
        "from sklearn import metrics\n",
        "print(\"Accuracy: \",RegModel.score(X_test, y_test))"
      ],
      "metadata": {
        "colab": {
          "base_uri": "https://localhost:8080/"
        },
        "id": "bq6emootxnBU",
        "outputId": "2e4b27a7-9e31-42f2-e949-e8657b55a455"
      },
      "execution_count": 13,
      "outputs": [
        {
          "output_type": "stream",
          "name": "stdout",
          "text": [
            "Accuracy:  0.7289003240757699\n"
          ]
        }
      ]
    },
    {
      "cell_type": "code",
      "source": [
        "from sklearn.datasets import load_diabetes\n",
        "from sklearn.model_selection import train_test_split\n",
        "from sklearn.ensemble import AdaBoostRegressor\n",
        "from sklearn.tree import DecisionTreeRegressor\n",
        "from sklearn import metrics\n",
        "from sklearn.metrics import mean_squared_error\n",
        "X,y = load_diabetes(return_X_y=True)\n",
        "X_train, X_test, y_train, y_test = train_test_split(X, y, test_size = 0.20, random_state = 97)\n",
        "DTR=DecisionTreeRegressor(max_depth=10)\n",
        "RegModel = AdaBoostRegressor(n_estimators=100, base_estimator=DTR ,learning_rate=1)\n",
        "AB=RegModel.fit(X_train,y_train)\n",
        "y_pred=AB.predict(X_test)\n",
        "print(\"Accuracy: \",RegModel.score(X_test, y_test))\n",
        "print(\"MSE: \",mean_squared_error(y_test,y_pred))"
      ],
      "metadata": {
        "colab": {
          "base_uri": "https://localhost:8080/"
        },
        "id": "5FxpAKXvx8qm",
        "outputId": "63b9fdc2-46a1-49bb-a5b1-bcf957a184e0"
      },
      "execution_count": 14,
      "outputs": [
        {
          "output_type": "stream",
          "name": "stdout",
          "text": [
            "Accuracy:  0.4265410495938441\n",
            "MSE:  3686.970956154572\n"
          ]
        }
      ]
    }
  ]
}