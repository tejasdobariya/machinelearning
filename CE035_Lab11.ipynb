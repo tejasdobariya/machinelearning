{
  "nbformat": 4,
  "nbformat_minor": 0,
  "metadata": {
    "colab": {
      "provenance": []
    },
    "kernelspec": {
      "name": "python3",
      "display_name": "Python 3"
    },
    "language_info": {
      "name": "python"
    }
  },
  "cells": [
    {
      "cell_type": "code",
      "source": [
        "#To perform linear svm on make blob dataset\n",
        "#A) C = 2\n",
        "import sys, os\n",
        "import matplotlib.pyplot as plt\n",
        "from sklearn import svm\n",
        "from sklearn.model_selection import train_test_split\n",
        "import numpy as np\n",
        "from sklearn.datasets import make_blobs\n",
        "from sklearn.svm import SVC\n",
        "from sklearn.model_selection import train_test_split\n",
        "from sklearn.metrics import accuracy_score,confusion_matrix,precision_score,recall_score\n",
        "\n",
        "def measures(y_true,y_pred):\n",
        "  print(confusion_matrix(y_true,y_pred))\n",
        "  return {\n",
        "      \"accuracy\":accuracy_score(y_test,y_pred),\n",
        "      \"precision\":precision_score(y_test,y_pred,average='micro'),\n",
        "      \"recall\":recall_score(y_test,y_pred,average='micro')\n",
        "  }\n",
        "  pass\n",
        "X,y=make_blobs(n_samples=10000,centers=2,n_features=4)\n",
        "X_train,X_test,y_train,y_test=train_test_split(X,y,test_size=0.2,random_state=146)\n",
        "model=SVC(C=2).fit(X_train,y_train)\n",
        "y_pred=model.predict(X_test)\n",
        "metrics=measures(y_test,y_pred)\n",
        "for metric in metrics:\n",
        "  print(metric,metrics[metric])"
      ],
      "metadata": {
        "colab": {
          "base_uri": "https://localhost:8080/"
        },
        "id": "9ItWuj8qEXSU",
        "outputId": "10aaed49-3d83-4ee2-c5cf-ffdd626c30f4"
      },
      "execution_count": 18,
      "outputs": [
        {
          "output_type": "stream",
          "name": "stdout",
          "text": [
            "[[ 981    0]\n",
            " [   0 1019]]\n",
            "accuracy 1.0\n",
            "precision 1.0\n",
            "recall 1.0\n"
          ]
        }
      ]
    },
    {
      "cell_type": "code",
      "source": [
        "#To perform linear svm on make blob dataset\n",
        "#A) C = 300\n",
        "from sklearn.datasets import make_blobs\n",
        "from sklearn.svm import SVC\n",
        "from sklearn.model_selection import train_test_split\n",
        "from sklearn.metrics import accuracy_score,confusion_matrix,precision_score,recall_score\n",
        "def measures(y_true,y_pred):\n",
        "  print(confusion_matrix(y_true,y_pred))\n",
        "  return {\n",
        "      \"accuracy\":accuracy_score(y_test,y_pred),\n",
        "      \"precision\":precision_score(y_test,y_pred,average='micro'),\n",
        "      \"recall\":recall_score(y_test,y_pred,average='micro')\n",
        "  }\n",
        "  pass\n",
        "\n",
        "X,y=make_blobs(n_samples=10000,centers=2,n_features=4)\n",
        "X_train,X_test,y_train,y_test=train_test_split(X,y,test_size=0.2,random_state=146)\n",
        "model=SVC(C=300).fit(X_train,y_train)\n",
        "y_pred=model.predict(X_test)\n",
        "metrics=measures(y_test,y_pred)\n",
        "for metric in metrics:\n",
        "  print(metric,metrics[metric])"
      ],
      "metadata": {
        "colab": {
          "base_uri": "https://localhost:8080/"
        },
        "id": "B_43djn-EXYe",
        "outputId": "d673737b-c6a3-4be7-c307-82de0ee2e50f"
      },
      "execution_count": 19,
      "outputs": [
        {
          "output_type": "stream",
          "name": "stdout",
          "text": [
            "[[1003    0]\n",
            " [   0  997]]\n",
            "accuracy 1.0\n",
            "precision 1.0\n",
            "recall 1.0\n"
          ]
        }
      ]
    },
    {
      "cell_type": "code",
      "source": [
        "#To use linear svm on breast cancer dataset\n",
        "#A) c=2\n",
        "from sklearn.datasets import load_breast_cancer\n",
        "from sklearn.svm import SVC\n",
        "from sklearn.model_selection import train_test_split\n",
        "from sklearn.metrics import accuracy_score,confusion_matrix\n",
        "def measures(y_true,y_pred):\n",
        "  cmat=confusion_matrix(y_true=y_test,y_pred=y_pred)\n",
        "  tn, fp, fn, tp=cmat.ravel()\n",
        "  print(\"tn : \",tn,\" , fp : \",fp,\" , fn : \",fn,\" , tp : \",tp)\n",
        "  return {\n",
        "      \"accuracy\":(tn+tp)/(tn+fp+fn+tp),\n",
        "      \"precision\":(tp)/(fp+tp),\n",
        "      \"recall\":(tp)/(fn+tp)\n",
        "  }\n",
        "  pass\n",
        "ds=load_breast_cancer()\n",
        "X=ds.data\n",
        "y=ds.target\n",
        "X_train,X_test,y_train,y_test=train_test_split(X,y,test_size=0.2,random_state=155)\n",
        "# model=SVC(kernel=\"linear\",C=2).fit(X_train,y_train)\n",
        "# tn :  30  , fp :  5  , fn :  2  , tp :  77\n",
        "# accuracy 0.9385964912280702\n",
        "# precision 0.9390243902439024\n",
        "# recall 0.9746835443037974\n",
        "\n",
        "# model=SVC(kernel=\"rbf\",C=2).fit(X_train,y_train)\n",
        "# tn :  28  , fp :  7  , fn :  2  , tp :  77\n",
        "# accuracy 0.9210526315789473\n",
        "# precision 0.9166666666666666\n",
        "# recall 0.9746835443037974\n",
        "\n",
        "model=SVC(kernel=\"poly\",C=2).fit(X_train,y_train)\n",
        "# tn :  27  , fp :  8  , fn :  3  , tp :  76\n",
        "# accuracy 0.9035087719298246\n",
        "# precision 0.9047619047619048\n",
        "# recall 0.9620253164556962\n",
        "\n",
        "y_pred=model.predict(X_test)\n",
        "metrics=measures(y_test,y_pred)\n",
        "for metric in metrics:\n",
        "  print(metric,metrics[metric])"
      ],
      "metadata": {
        "colab": {
          "base_uri": "https://localhost:8080/"
        },
        "id": "zqpQjD2VEXbj",
        "outputId": "16b0ccdc-46b9-4cec-8d10-20edef047a84"
      },
      "execution_count": 20,
      "outputs": [
        {
          "output_type": "stream",
          "name": "stdout",
          "text": [
            "tn :  27  , fp :  8  , fn :  3  , tp :  76\n",
            "accuracy 0.9035087719298246\n",
            "precision 0.9047619047619048\n",
            "recall 0.9620253164556962\n"
          ]
        }
      ]
    },
    {
      "cell_type": "code",
      "source": [
        "#To use linear svm on breast cancer dataset\n",
        "#A) c=300\n",
        "from sklearn.datasets import load_breast_cancer\n",
        "from sklearn.svm import SVC\n",
        "from sklearn.model_selection import train_test_split\n",
        "from sklearn.metrics import accuracy_score,confusion_matrix\n",
        "def measures(y_true,y_pred):\n",
        "  cmat=confusion_matrix(y_true=y_test,y_pred=y_pred)\n",
        "  tn, fp, fn, tp=cmat.ravel()\n",
        "  print(\"tn : \",tn,\" , fp : \",fp,\" , fn : \",fn,\" , tp : \",tp)\n",
        "  return {\n",
        "      \"accuracy\":(tn+tp)/(tn+fp+fn+tp),\n",
        "      \"precision\":(tp)/(fp+tp),\n",
        "      \"recall\":(tp)/(fn+tp)\n",
        "  }\n",
        "  pass\n",
        "\n",
        "ds=load_breast_cancer()\n",
        "X=ds.data\n",
        "y=ds.target\n",
        "X_train,X_test,y_train,y_test=train_test_split(X,y,test_size=0.2,random_state=155)\n",
        "\n",
        "# model=SVC(kernel=\"linear\",C=300).fit(X_train,y_train)\n",
        "#tn :  29  , fp :  6  , fn :  2  , tp :  77\n",
        "# accuracy 0.9298245614035088\n",
        "# precision 0.927710843373494\n",
        "# recall 0.9746835443037974\n",
        "\n",
        "# model=SVC(kernel=\"rbf\",C=300).fit(X_train,y_train)\n",
        "# tn :  30  , fp :  5  , fn :  3  , tp :  76\n",
        "# accuracy 0.9298245614035088\n",
        "# precision 0.9382716049382716\n",
        "# recall 0.9620253164556962\n",
        "\n",
        "model=SVC(kernel=\"poly\",C=300).fit(X_train,y_train)\n",
        "# tn :  28  , fp :  7  , fn :  3  , tp :  76\n",
        "# accuracy 0.9122807017543859\n",
        "# precision 0.9156626506024096\n",
        "# recall 0.9620253164556962\n",
        "\n",
        "y_pred=model.predict(X_test)\n",
        "metrics=measures(y_test,y_pred)\n",
        "for metric in metrics:\n",
        "  print(metric,metrics[metric])"
      ],
      "metadata": {
        "colab": {
          "base_uri": "https://localhost:8080/"
        },
        "id": "fLIW_kDlEXeb",
        "outputId": "befed185-11c3-4010-8d88-bff1fcc7cdf7"
      },
      "execution_count": 21,
      "outputs": [
        {
          "output_type": "stream",
          "name": "stdout",
          "text": [
            "tn :  28  , fp :  7  , fn :  3  , tp :  76\n",
            "accuracy 0.9122807017543859\n",
            "precision 0.9156626506024096\n",
            "recall 0.9620253164556962\n"
          ]
        }
      ]
    },
    {
      "cell_type": "code",
      "source": [
        "from sklearn.datasets import load_breast_cancer\n",
        "from sklearn.svm import SVC\n",
        "from sklearn.model_selection import train_test_split\n",
        "from sklearn.metrics import accuracy_score,confusion_matrix\n",
        "\n",
        "def measures(y_true,y_pred):\n",
        "  cmat=confusion_matrix(y_true=y_test,y_pred=y_pred)\n",
        "  tn, fp, fn, tp=cmat.ravel()\n",
        "  print(\"tn : \",tn,\" , fp : \",fp,\" , fn : \",fn,\" , tp : \",tp)\n",
        "  return {\n",
        "      \"accuracy\":(tn+tp)/(tn+fp+fn+tp),\n",
        "      \"precision\":(tp)/(fp+tp),\n",
        "      \"recall\":(tp)/(fn+tp)\n",
        "  }\n",
        "  pass\n",
        "ds=load_breast_cancer()\n",
        "X=ds.data\n",
        "y=ds.target\n",
        "X_train,X_test,y_train,y_test=train_test_split(X,y,test_size=0.2,random_state=146)\n",
        "\n",
        "# model=SVC(kernel=\"linear\",C=300).fit(X_train,y_train)\n",
        "# tn :  29  , fp :  6  , fn :  2  , tp :  77\n",
        "# accuracy 0.9298245614035088\n",
        "# precision 0.927710843373494\n",
        "# recall 0.9746835443037974\n",
        "\n",
        "\n",
        "# model=SVC(kernel=\"rbf\",C=300).fit(X_train,y_train)\n",
        "# tn :  30  , fp :  5  , fn :  3  , tp :  76\n",
        "# accuracy 0.9298245614035088\n",
        "# precision 0.9382716049382716\n",
        "# recall 0.9620253164556962\n",
        "\n",
        "\n",
        "model=SVC(kernel=\"poly\",C=300).fit(X_train,y_train)\n",
        "# tn :  28  , fp :  7  , fn :  3  , tp :  76\n",
        "# accuracy 0.9122807017543859\n",
        "# precision 0.9156626506024096\n",
        "# recall 0.9620253164556962\n",
        "\n",
        "\n",
        "y_pred=model.predict(X_test)\n",
        "metrics=measures(y_test,y_pred)\n",
        "\n",
        "for metric in metrics:\n",
        "  print(metric,metrics[metric])"
      ],
      "metadata": {
        "colab": {
          "base_uri": "https://localhost:8080/"
        },
        "id": "8YCHUjvnEXhS",
        "outputId": "23399ead-b573-470e-efd8-b4becde58cec"
      },
      "execution_count": 22,
      "outputs": [
        {
          "output_type": "stream",
          "name": "stdout",
          "text": [
            "tn :  36  , fp :  8  , fn :  0  , tp :  70\n",
            "accuracy 0.9298245614035088\n",
            "precision 0.8974358974358975\n",
            "recall 1.0\n"
          ]
        }
      ]
    },
    {
      "cell_type": "code",
      "source": [
        "#Exersice\n",
        "from sklearn.datasets import load_digits\n",
        "from sklearn.svm import SVC\n",
        "from sklearn.model_selection import train_test_split\n",
        "from sklearn.metrics import accuracy_score,confusion_matrix,precision_score,recall_score\n",
        "def measures(y_true,y_pred):\n",
        "  return {\n",
        "      \"accuracy\":accuracy_score(y_test,y_pred),\n",
        "      \"precision\":precision_score(y_test,y_pred,average='micro'),\n",
        "      \"recall\":recall_score(y_test,y_pred,average='micro')\n",
        "  }\n",
        "  pass\n",
        "\n",
        "ds=load_digits()\n",
        "X=ds.data\n",
        "y=ds.target\n",
        "X_train,X_test,y_train,y_test=train_test_split(X,y,test_size=0.2,random_state=155)\n",
        "model=SVC(C=1,kernel=\"poly\").fit(X_train,y_train)\n",
        "y_pred=model.predict(X_test)\n",
        "metrics=measures(y_test,y_pred)\n",
        "for metric in metrics:\n",
        "  print(metric,metrics[metric])"
      ],
      "metadata": {
        "colab": {
          "base_uri": "https://localhost:8080/"
        },
        "id": "FPc11zdoEXkq",
        "outputId": "1b5d4cf0-6304-44b3-b6d2-610b03bc9d36"
      },
      "execution_count": 23,
      "outputs": [
        {
          "output_type": "stream",
          "name": "stdout",
          "text": [
            "accuracy 0.9944444444444445\n",
            "precision 0.9944444444444445\n",
            "recall 0.9944444444444445\n"
          ]
        }
      ]
    }
  ]
}